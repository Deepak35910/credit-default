{
  "nbformat": 4,
  "nbformat_minor": 0,
  "metadata": {
    "kernelspec": {
      "display_name": "Python 3",
      "language": "python",
      "name": "python3"
    },
    "language_info": {
      "codemirror_mode": {
        "name": "ipython",
        "version": 3
      },
      "file_extension": ".py",
      "mimetype": "text/x-python",
      "name": "python",
      "nbconvert_exporter": "python",
      "pygments_lexer": "ipython3",
      "version": "3.6.4"
    },
    "colab": {
      "name": "credit_default_project.ipynb",
      "provenance": [],
      "collapsed_sections": []
    },
    "accelerator": "GPU"
  },
  "cells": [
    {
      "cell_type": "code",
      "metadata": {
        "id": "sdmpAKsL7dJB",
        "colab": {
          "base_uri": "https://localhost:8080/"
        },
        "outputId": "45c7489f-2b5e-4eb4-c8d6-9e0ba1d045f5"
      },
      "source": [
        "import pandas as pd\n",
        "import numpy as np\n",
        "import datetime\n",
        "import matplotlib.pyplot as plt\n",
        "from imblearn.over_sampling import SMOTE"
      ],
      "execution_count": 1,
      "outputs": [
        {
          "output_type": "stream",
          "text": [
            "/usr/local/lib/python3.7/dist-packages/sklearn/externals/six.py:31: FutureWarning: The module is deprecated in version 0.21 and will be removed in version 0.23 since we've dropped support for Python 2.7. Please rely on the official version of six (https://pypi.org/project/six/).\n",
            "  \"(https://pypi.org/project/six/).\", FutureWarning)\n",
            "/usr/local/lib/python3.7/dist-packages/sklearn/utils/deprecation.py:144: FutureWarning: The sklearn.neighbors.base module is  deprecated in version 0.22 and will be removed in version 0.24. The corresponding classes / functions should instead be imported from sklearn.neighbors. Anything that cannot be imported from sklearn.neighbors is now part of the private API.\n",
            "  warnings.warn(message, FutureWarning)\n"
          ],
          "name": "stderr"
        }
      ]
    },
    {
      "cell_type": "code",
      "metadata": {
        "id": "6pbPuCIK8OjX",
        "colab": {
          "base_uri": "https://localhost:8080/"
        },
        "outputId": "a798132c-6557-45e2-cfae-c9ca31cb138b"
      },
      "source": [
        "from google.colab import drive\n",
        "drive.mount('/content/gdrive')"
      ],
      "execution_count": 2,
      "outputs": [
        {
          "output_type": "stream",
          "text": [
            "Mounted at /content/gdrive\n"
          ],
          "name": "stdout"
        }
      ]
    },
    {
      "cell_type": "markdown",
      "metadata": {
        "id": "_cI5gUZX7dJL"
      },
      "source": [
        "importing data file"
      ]
    },
    {
      "cell_type": "code",
      "metadata": {
        "id": "VtvyB8jO7dJN",
        "colab": {
          "base_uri": "https://localhost:8080/"
        },
        "outputId": "bc7d3e1e-3c78-48a6-ddf6-e9d1663a1320"
      },
      "source": [
        "data = pd.read_csv(r'/content/gdrive/My Drive/Colab Notebooks/Loan_default/XYZCorp_LendingData.txt', sep=\"\\t\"\n",
        "                   ,header = 0)\n",
        "dummy=pd.DataFrame.copy(data) "
      ],
      "execution_count": 3,
      "outputs": [
        {
          "output_type": "stream",
          "text": [
            "/usr/local/lib/python3.7/dist-packages/IPython/core/interactiveshell.py:2718: DtypeWarning: Columns (17,45,53) have mixed types.Specify dtype option on import or set low_memory=False.\n",
            "  interactivity=interactivity, compiler=compiler, result=result)\n"
          ],
          "name": "stderr"
        }
      ]
    },
    {
      "cell_type": "code",
      "metadata": {
        "colab": {
          "base_uri": "https://localhost:8080/"
        },
        "id": "s8uvccLWb2rn",
        "outputId": "3d0885a9-3bc5-4b1a-aebf-dc2a9a8588d5"
      },
      "source": [
        "data.shape"
      ],
      "execution_count": 4,
      "outputs": [
        {
          "output_type": "execute_result",
          "data": {
            "text/plain": [
              "(855969, 73)"
            ]
          },
          "metadata": {
            "tags": []
          },
          "execution_count": 4
        }
      ]
    },
    {
      "cell_type": "markdown",
      "metadata": {
        "id": "lncrKk4-7dJW"
      },
      "source": [
        "displaying all column"
      ]
    },
    {
      "cell_type": "code",
      "metadata": {
        "id": "c20Ho4Zk7dJY"
      },
      "source": [
        "pd.set_option('display.max_columns',None)"
      ],
      "execution_count": 5,
      "outputs": []
    },
    {
      "cell_type": "markdown",
      "metadata": {
        "id": "-GYD_fYe7dJf"
      },
      "source": [
        "checking duplicate ids - no duplicate ids"
      ]
    },
    {
      "cell_type": "code",
      "metadata": {
        "id": "i7EBozSf7dJh",
        "colab": {
          "base_uri": "https://localhost:8080/"
        },
        "outputId": "b81fcdba-2afd-4fde-fff7-7ca7e8159a77"
      },
      "source": [
        "print(any(dummy['member_id'].duplicated()))                    \n",
        "print(any(dummy['id'].duplicated()))                     "
      ],
      "execution_count": 6,
      "outputs": [
        {
          "output_type": "stream",
          "text": [
            "False\n",
            "False\n"
          ],
          "name": "stdout"
        }
      ]
    },
    {
      "cell_type": "markdown",
      "metadata": {
        "id": "AGQ-TE417dJm"
      },
      "source": [
        "dropping variables which are not required for modelling"
      ]
    },
    {
      "cell_type": "code",
      "metadata": {
        "id": "ojvdy9iJ7dJn"
      },
      "source": [
        "dummy=dummy.drop(['id','member_id','emp_title','desc','title','addr_state','zip_code'],axis=1) \n",
        "#dropping variable that are not  relevent in modelling"
      ],
      "execution_count": 7,
      "outputs": []
    },
    {
      "cell_type": "markdown",
      "metadata": {
        "id": "x7XlK2sy7dJr"
      },
      "source": [
        "policy_code is 1 for all - no variation<br>\n",
        "pymnt_plan is y just for 5 - no variation"
      ]
    },
    {
      "cell_type": "code",
      "metadata": {
        "id": "pgT4UJmE7dJs"
      },
      "source": [
        "dummy=dummy.drop(['pymnt_plan','policy_code'],axis=1) "
      ],
      "execution_count": 8,
      "outputs": []
    },
    {
      "cell_type": "markdown",
      "metadata": {
        "id": "0GIT60MM7dJx"
      },
      "source": [
        "Dropping grade variable as we already have sub grade [sub grade has more detailed info than grade]"
      ]
    },
    {
      "cell_type": "code",
      "metadata": {
        "id": "gagsI--b7dJy"
      },
      "source": [
        "dummy=dummy.drop(['grade'],axis=1) "
      ],
      "execution_count": 9,
      "outputs": []
    },
    {
      "cell_type": "markdown",
      "metadata": {
        "id": "T2W-frtF7dJ1"
      },
      "source": [
        "Dropping below variables as they have no  contribution to y=1"
      ]
    },
    {
      "cell_type": "code",
      "metadata": {
        "id": "NdBNb8vo7dJ2"
      },
      "source": [
        "dummy=dummy.drop(['annual_inc_joint','dti_joint','verification_status_joint'],axis=1) "
      ],
      "execution_count": 10,
      "outputs": []
    },
    {
      "cell_type": "code",
      "metadata": {
        "id": "jkghvW1i7dJ6"
      },
      "source": [
        "dummy=dummy.drop(['open_acc_6m','open_il_6m','open_il_12m','open_il_24m',\n",
        "                  'mths_since_rcnt_il','total_bal_il','il_util','open_rv_12m',\n",
        "                  'open_rv_24m','max_bal_bc','all_util','inq_fi','total_cu_tl',\n",
        "                  'inq_last_12m'],axis=1) "
      ],
      "execution_count": 11,
      "outputs": []
    },
    {
      "cell_type": "markdown",
      "metadata": {
        "id": "NOU89sj07dKD"
      },
      "source": [
        "Dropping variables with too many missing value > 50%\r\n",
        "\r\n",
        "---\r\n",
        "\r\n"
      ]
    },
    {
      "cell_type": "code",
      "metadata": {
        "id": "KTwxqwRq7dKF"
      },
      "source": [
        "dummy=dummy.drop(['mths_since_last_delinq','mths_since_last_record','mths_since_last_major_derog'],axis=1) "
      ],
      "execution_count": 12,
      "outputs": []
    },
    {
      "cell_type": "markdown",
      "metadata": {
        "id": "-gLX72V87dKL"
      },
      "source": [
        "checking corelation between independent numeeric variables\r\n",
        "\r\n",
        "\r\n"
      ]
    },
    {
      "cell_type": "code",
      "metadata": {
        "id": "ur40mPxX7dKM",
        "colab": {
          "base_uri": "https://localhost:8080/"
        },
        "outputId": "f043842c-59c1-4bc1-b138-93db8851b20f"
      },
      "source": [
        "print(dummy.corr(method ='pearson'))"
      ],
      "execution_count": 13,
      "outputs": [
        {
          "output_type": "stream",
          "text": [
            "                            loan_amnt  funded_amnt  funded_amnt_inv  int_rate  \\\n",
            "loan_amnt                    1.000000     0.999265         0.997601  0.142966   \n",
            "funded_amnt                  0.999265     1.000000         0.998485  0.143116   \n",
            "funded_amnt_inv              0.997601     0.998485         1.000000  0.143374   \n",
            "int_rate                     0.142966     0.143116         0.143374  1.000000   \n",
            "installment                  0.944870     0.945903         0.944149  0.130468   \n",
            "annual_inc                   0.335209     0.335002         0.334356 -0.073825   \n",
            "dti                          0.020189     0.020583         0.021489  0.078454   \n",
            "delinq_2yrs                 -0.000739    -0.000424         0.000050  0.055400   \n",
            "inq_last_6mths              -0.028928    -0.029279        -0.030462  0.231705   \n",
            "open_acc                     0.198926     0.199432         0.200055 -0.011091   \n",
            "pub_rec                     -0.082199    -0.081858        -0.081008  0.052596   \n",
            "revol_bal                    0.337489     0.337405         0.336870 -0.035344   \n",
            "revol_util                   0.119635     0.120147         0.120931  0.271687   \n",
            "total_acc                    0.222084     0.222039         0.222258 -0.039482   \n",
            "out_prncp                    0.639784     0.641706         0.644011  0.033933   \n",
            "out_prncp_inv                0.639786     0.641709         0.644023  0.033790   \n",
            "total_pymnt                  0.479612     0.478290         0.474600  0.173387   \n",
            "total_pymnt_inv              0.480328     0.479172         0.478589  0.174453   \n",
            "total_rec_prncp              0.395880     0.394669         0.391010  0.059298   \n",
            "total_rec_int                0.537586     0.536533         0.534517  0.446517   \n",
            "total_rec_late_fee           0.025966     0.025579         0.023091  0.050743   \n",
            "recoveries                   0.075513     0.075076         0.073737  0.110848   \n",
            "collection_recovery_fee      0.055135     0.054898         0.053082  0.074360   \n",
            "last_pymnt_amnt              0.233596     0.233134         0.232029  0.107346   \n",
            "collections_12_mths_ex_med  -0.017042    -0.016887        -0.016556  0.012841   \n",
            "acc_now_delinq               0.003572     0.003675         0.003856  0.026476   \n",
            "tot_coll_amt                -0.004272    -0.004272        -0.004271  0.001129   \n",
            "tot_cur_bal                  0.329130     0.329128         0.329152 -0.091430   \n",
            "total_rev_hi_lim             0.312072     0.312071         0.312107 -0.165533   \n",
            "default_ind                 -0.004907    -0.005797        -0.008209  0.155037   \n",
            "\n",
            "                            installment  annual_inc       dti  delinq_2yrs  \\\n",
            "loan_amnt                      0.944870    0.335209  0.020189    -0.000739   \n",
            "funded_amnt                    0.945903    0.335002  0.020583    -0.000424   \n",
            "funded_amnt_inv                0.944149    0.334356  0.021489     0.000050   \n",
            "int_rate                       0.130468   -0.073825  0.078454     0.055400   \n",
            "installment                    1.000000    0.328578  0.013909     0.007224   \n",
            "annual_inc                     0.328578    1.000000 -0.086821     0.047749   \n",
            "dti                            0.013909   -0.086821  1.000000    -0.002677   \n",
            "delinq_2yrs                    0.007224    0.047749 -0.002677     1.000000   \n",
            "inq_last_6mths                 0.001659    0.037251 -0.005860     0.022930   \n",
            "open_acc                       0.183817    0.139429  0.142068     0.051502   \n",
            "pub_rec                       -0.071114   -0.008909 -0.022717    -0.011081   \n",
            "revol_bal                      0.320017    0.298569  0.067119    -0.031807   \n",
            "revol_util                     0.131928    0.036753  0.086649    -0.016299   \n",
            "total_acc                      0.199872    0.188651  0.106266     0.121978   \n",
            "out_prncp                      0.539840    0.211549  0.058057     0.030884   \n",
            "out_prncp_inv                  0.539835    0.211591  0.058021     0.030874   \n",
            "total_pymnt                    0.520613    0.163226 -0.040537    -0.031777   \n",
            "total_pymnt_inv                0.521332    0.163275 -0.039563    -0.031346   \n",
            "total_rec_prncp                0.455444    0.152245 -0.050855    -0.038068   \n",
            "total_rec_int                  0.502038    0.130367  0.008750     0.001380   \n",
            "total_rec_late_fee             0.035728    0.009864 -0.006245     0.013992   \n",
            "recoveries                     0.076931    0.007613  0.001719    -0.000252   \n",
            "collection_recovery_fee        0.057180    0.006805  0.002923     0.001467   \n",
            "last_pymnt_amnt                0.243246    0.092662 -0.028601    -0.018805   \n",
            "collections_12_mths_ex_med    -0.014565   -0.003789 -0.000117     0.063019   \n",
            "acc_now_delinq                 0.006273    0.014877  0.003227     0.130420   \n",
            "tot_coll_amt                  -0.003540    0.001005 -0.001995     0.000154   \n",
            "tot_cur_bal                    0.298352    0.422618 -0.007133     0.064618   \n",
            "total_rev_hi_lim               0.286857    0.271059  0.032430    -0.040575   \n",
            "default_ind                    0.004753   -0.037066  0.004429    -0.009186   \n",
            "\n",
            "                            inq_last_6mths  open_acc   pub_rec  revol_bal  \\\n",
            "loan_amnt                        -0.028928  0.198926 -0.082199   0.337489   \n",
            "funded_amnt                      -0.029279  0.199432 -0.081858   0.337405   \n",
            "funded_amnt_inv                  -0.030462  0.200055 -0.081008   0.336870   \n",
            "int_rate                          0.231705 -0.011091  0.052596  -0.035344   \n",
            "installment                       0.001659  0.183817 -0.071114   0.320017   \n",
            "annual_inc                        0.037251  0.139429 -0.008909   0.298569   \n",
            "dti                              -0.005860  0.142068 -0.022717   0.067119   \n",
            "delinq_2yrs                       0.022930  0.051502 -0.011081  -0.031807   \n",
            "inq_last_6mths                    1.000000  0.116532  0.059430  -0.018683   \n",
            "open_acc                          0.116532  1.000000 -0.026122   0.225858   \n",
            "pub_rec                           0.059430 -0.026122  1.000000  -0.101235   \n",
            "revol_bal                        -0.018683  0.225858 -0.101235   1.000000   \n",
            "revol_util                       -0.088353 -0.144959 -0.079050   0.217785   \n",
            "total_acc                         0.141854  0.694850  0.012300   0.189322   \n",
            "out_prncp                        -0.104062  0.171050 -0.007978   0.236093   \n",
            "out_prncp_inv                    -0.104083  0.171053 -0.007976   0.236100   \n",
            "total_pymnt                       0.080476  0.043452 -0.087933   0.139161   \n",
            "total_pymnt_inv                   0.079531  0.044552 -0.087299   0.139355   \n",
            "total_rec_prncp                   0.065010  0.032115 -0.084596   0.120577   \n",
            "total_rec_int                     0.088495  0.061725 -0.059868   0.139872   \n",
            "total_rec_late_fee                0.022820 -0.009957 -0.011871  -0.000166   \n",
            "recoveries                        0.044004  0.001957 -0.014602   0.010861   \n",
            "collection_recovery_fee           0.029647  0.003990 -0.008963   0.008588   \n",
            "last_pymnt_amnt                   0.065455  0.029130 -0.034215   0.060027   \n",
            "collections_12_mths_ex_med        0.007364  0.009998  0.020874  -0.022552   \n",
            "acc_now_delinq                   -0.004836  0.017774 -0.000293  -0.000677   \n",
            "tot_coll_amt                      0.003181  0.000071  0.006816  -0.006117   \n",
            "tot_cur_bal                       0.034806  0.244465 -0.075956   0.443059   \n",
            "total_rev_hi_lim                  0.006089  0.325179 -0.100227   0.820800   \n",
            "default_ind                       0.074407 -0.021698 -0.019607  -0.020696   \n",
            "\n",
            "                            revol_util  total_acc  out_prncp  out_prncp_inv  \\\n",
            "loan_amnt                     0.119635   0.222084   0.639784       0.639786   \n",
            "funded_amnt                   0.120147   0.222039   0.641706       0.641709   \n",
            "funded_amnt_inv               0.120931   0.222258   0.644011       0.644023   \n",
            "int_rate                      0.271687  -0.039482   0.033933       0.033790   \n",
            "installment                   0.131928   0.199872   0.539840       0.539835   \n",
            "annual_inc                    0.036753   0.188651   0.211549       0.211591   \n",
            "dti                           0.086649   0.106266   0.058057       0.058021   \n",
            "delinq_2yrs                  -0.016299   0.121978   0.030884       0.030874   \n",
            "inq_last_6mths               -0.088353   0.141854  -0.104062      -0.104083   \n",
            "open_acc                     -0.144959   0.694850   0.171050       0.171053   \n",
            "pub_rec                      -0.079050   0.012300  -0.007978      -0.007976   \n",
            "revol_bal                     0.217785   0.189322   0.236093       0.236100   \n",
            "revol_util                    1.000000  -0.114616   0.074353       0.074302   \n",
            "total_acc                    -0.114616   1.000000   0.135755       0.135770   \n",
            "out_prncp                     0.074353   0.135755   1.000000       0.999997   \n",
            "out_prncp_inv                 0.074302   0.135770   0.999997       1.000000   \n",
            "total_pymnt                   0.080945   0.110169  -0.289173      -0.289164   \n",
            "total_pymnt_inv               0.082181   0.110983  -0.286487      -0.286472   \n",
            "total_rec_prncp               0.036756   0.101289  -0.370627      -0.370620   \n",
            "total_rec_int                 0.183754   0.091824   0.112191       0.112205   \n",
            "total_rec_late_fee            0.019445  -0.005655  -0.046704      -0.046707   \n",
            "recoveries                    0.029601   0.009670  -0.111595      -0.111595   \n",
            "collection_recovery_fee       0.019880   0.011048  -0.077588      -0.077588   \n",
            "last_pymnt_amnt              -0.000939   0.087729  -0.333641      -0.333641   \n",
            "collections_12_mths_ex_med   -0.035707   0.009181   0.015653       0.015638   \n",
            "acc_now_delinq               -0.027270   0.026633   0.011834       0.011824   \n",
            "tot_coll_amt                 -0.009252   0.006463  -0.000840      -0.000841   \n",
            "tot_cur_bal                   0.080583   0.311268   0.207565       0.207597   \n",
            "total_rev_hi_lim             -0.117724   0.255391   0.221319       0.221361   \n",
            "default_ind                   0.044497  -0.021087  -0.225960      -0.225959   \n",
            "\n",
            "                            total_pymnt  total_pymnt_inv  total_rec_prncp  \\\n",
            "loan_amnt                      0.479612         0.480328         0.395880   \n",
            "funded_amnt                    0.478290         0.479172         0.394669   \n",
            "funded_amnt_inv                0.474600         0.478589         0.391010   \n",
            "int_rate                       0.173387         0.174453         0.059298   \n",
            "installment                    0.520613         0.521332         0.455444   \n",
            "annual_inc                     0.163226         0.163275         0.152245   \n",
            "dti                           -0.040537        -0.039563        -0.050855   \n",
            "delinq_2yrs                   -0.031777        -0.031346        -0.038068   \n",
            "inq_last_6mths                 0.080476         0.079531         0.065010   \n",
            "open_acc                       0.043452         0.044552         0.032115   \n",
            "pub_rec                       -0.087933        -0.087299        -0.084596   \n",
            "revol_bal                      0.139161         0.139355         0.120577   \n",
            "revol_util                     0.080945         0.082181         0.036756   \n",
            "total_acc                      0.110169         0.110983         0.101289   \n",
            "out_prncp                     -0.289173        -0.286487        -0.370627   \n",
            "out_prncp_inv                 -0.289164        -0.286472        -0.370620   \n",
            "total_pymnt                    1.000000         0.998121         0.970594   \n",
            "total_pymnt_inv                0.998121         1.000000         0.968608   \n",
            "total_rec_prncp                0.970594         0.968608         1.000000   \n",
            "total_rec_int                  0.679127         0.678519         0.488377   \n",
            "total_rec_late_fee             0.054403         0.052077         0.033519   \n",
            "recoveries                     0.037201         0.036396        -0.039655   \n",
            "collection_recovery_fee        0.035844         0.034366        -0.024295   \n",
            "last_pymnt_amnt                0.662738         0.663272         0.744494   \n",
            "collections_12_mths_ex_med    -0.038618        -0.038350        -0.037766   \n",
            "acc_now_delinq                -0.008220        -0.008021        -0.010486   \n",
            "tot_coll_amt                  -0.004203        -0.004202        -0.003788   \n",
            "tot_cur_bal                    0.169289         0.169301         0.157435   \n",
            "total_rev_hi_lim               0.120593         0.120602         0.118982   \n",
            "default_ind                   -0.039220        -0.040232        -0.090336   \n",
            "\n",
            "                            total_rec_int  total_rec_late_fee  recoveries  \\\n",
            "loan_amnt                        0.537586            0.025966    0.075513   \n",
            "funded_amnt                      0.536533            0.025579    0.075076   \n",
            "funded_amnt_inv                  0.534517            0.023091    0.073737   \n",
            "int_rate                         0.446517            0.050743    0.110848   \n",
            "installment                      0.502038            0.035728    0.076931   \n",
            "annual_inc                       0.130367            0.009864    0.007613   \n",
            "dti                              0.008750           -0.006245    0.001719   \n",
            "delinq_2yrs                      0.001380            0.013992   -0.000252   \n",
            "inq_last_6mths                   0.088495            0.022820    0.044004   \n",
            "open_acc                         0.061725           -0.009957    0.001957   \n",
            "pub_rec                         -0.059868           -0.011871   -0.014602   \n",
            "revol_bal                        0.139872           -0.000166    0.010861   \n",
            "revol_util                       0.183754            0.019445    0.029601   \n",
            "total_acc                        0.091824           -0.005655    0.009670   \n",
            "out_prncp                        0.112191           -0.046704   -0.111595   \n",
            "out_prncp_inv                    0.112205           -0.046707   -0.111595   \n",
            "total_pymnt                      0.679127            0.054403    0.037201   \n",
            "total_pymnt_inv                  0.678519            0.052077    0.036396   \n",
            "total_rec_prncp                  0.488377            0.033519   -0.039655   \n",
            "total_rec_int                    1.000000            0.080459    0.069917   \n",
            "total_rec_late_fee               0.080459            1.000000    0.085700   \n",
            "recoveries                       0.069917            0.085700    1.000000   \n",
            "collection_recovery_fee          0.054602            0.078744    0.803029   \n",
            "last_pymnt_amnt                  0.137991           -0.009496   -0.038542   \n",
            "collections_12_mths_ex_med      -0.024670           -0.003835   -0.004684   \n",
            "acc_now_delinq                   0.002220            0.002229    0.000883   \n",
            "tot_coll_amt                    -0.003562           -0.000592   -0.000919   \n",
            "tot_cur_bal                      0.134022            0.008831    0.004063   \n",
            "total_rev_hi_lim                 0.073855           -0.005545   -0.000171   \n",
            "default_ind                      0.046050            0.140760    0.475738   \n",
            "\n",
            "                            collection_recovery_fee  last_pymnt_amnt  \\\n",
            "loan_amnt                                  0.055135         0.233596   \n",
            "funded_amnt                                0.054898         0.233134   \n",
            "funded_amnt_inv                            0.053082         0.232029   \n",
            "int_rate                                   0.074360         0.107346   \n",
            "installment                                0.057180         0.243246   \n",
            "annual_inc                                 0.006805         0.092662   \n",
            "dti                                        0.002923        -0.028601   \n",
            "delinq_2yrs                                0.001467        -0.018805   \n",
            "inq_last_6mths                             0.029647         0.065455   \n",
            "open_acc                                   0.003990         0.029130   \n",
            "pub_rec                                   -0.008963        -0.034215   \n",
            "revol_bal                                  0.008588         0.060027   \n",
            "revol_util                                 0.019880        -0.000939   \n",
            "total_acc                                  0.011048         0.087729   \n",
            "out_prncp                                 -0.077588        -0.333641   \n",
            "out_prncp_inv                             -0.077588        -0.333641   \n",
            "total_pymnt                                0.035844         0.662738   \n",
            "total_pymnt_inv                            0.034366         0.663272   \n",
            "total_rec_prncp                           -0.024295         0.744494   \n",
            "total_rec_int                              0.054602         0.137991   \n",
            "total_rec_late_fee                         0.078744        -0.009496   \n",
            "recoveries                                 0.803029        -0.038542   \n",
            "collection_recovery_fee                    1.000000        -0.026610   \n",
            "last_pymnt_amnt                           -0.026610         1.000000   \n",
            "collections_12_mths_ex_med                -0.002866        -0.017771   \n",
            "acc_now_delinq                             0.000557        -0.002911   \n",
            "tot_coll_amt                              -0.000514        -0.002568   \n",
            "tot_cur_bal                                0.005704         0.103113   \n",
            "total_rev_hi_lim                           0.001399         0.062068   \n",
            "default_ind                                0.330764        -0.087217   \n",
            "\n",
            "                            collections_12_mths_ex_med  acc_now_delinq  \\\n",
            "loan_amnt                                    -0.017042        0.003572   \n",
            "funded_amnt                                  -0.016887        0.003675   \n",
            "funded_amnt_inv                              -0.016556        0.003856   \n",
            "int_rate                                      0.012841        0.026476   \n",
            "installment                                  -0.014565        0.006273   \n",
            "annual_inc                                   -0.003789        0.014877   \n",
            "dti                                          -0.000117        0.003227   \n",
            "delinq_2yrs                                   0.063019        0.130420   \n",
            "inq_last_6mths                                0.007364       -0.004836   \n",
            "open_acc                                      0.009998        0.017774   \n",
            "pub_rec                                       0.020874       -0.000293   \n",
            "revol_bal                                    -0.022552       -0.000677   \n",
            "revol_util                                   -0.035707       -0.027270   \n",
            "total_acc                                     0.009181        0.026633   \n",
            "out_prncp                                     0.015653        0.011834   \n",
            "out_prncp_inv                                 0.015638        0.011824   \n",
            "total_pymnt                                  -0.038618       -0.008220   \n",
            "total_pymnt_inv                              -0.038350       -0.008021   \n",
            "total_rec_prncp                              -0.037766       -0.010486   \n",
            "total_rec_int                                -0.024670        0.002220   \n",
            "total_rec_late_fee                           -0.003835        0.002229   \n",
            "recoveries                                   -0.004684        0.000883   \n",
            "collection_recovery_fee                      -0.002866        0.000557   \n",
            "last_pymnt_amnt                              -0.017771       -0.002911   \n",
            "collections_12_mths_ex_med                    1.000000        0.040197   \n",
            "acc_now_delinq                                0.040197        1.000000   \n",
            "tot_coll_amt                                  0.009686        0.000267   \n",
            "tot_cur_bal                                  -0.010622        0.022804   \n",
            "total_rev_hi_lim                             -0.016808        0.008254   \n",
            "default_ind                                  -0.010650       -0.003116   \n",
            "\n",
            "                            tot_coll_amt  tot_cur_bal  total_rev_hi_lim  \\\n",
            "loan_amnt                      -0.004272     0.329130          0.312072   \n",
            "funded_amnt                    -0.004272     0.329128          0.312071   \n",
            "funded_amnt_inv                -0.004271     0.329152          0.312107   \n",
            "int_rate                        0.001129    -0.091430         -0.165533   \n",
            "installment                    -0.003540     0.298352          0.286857   \n",
            "annual_inc                      0.001005     0.422618          0.271059   \n",
            "dti                            -0.001995    -0.007133          0.032430   \n",
            "delinq_2yrs                     0.000154     0.064618         -0.040575   \n",
            "inq_last_6mths                  0.003181     0.034806          0.006089   \n",
            "open_acc                        0.000071     0.244465          0.325179   \n",
            "pub_rec                         0.006816    -0.075956         -0.100227   \n",
            "revol_bal                      -0.006117     0.443059          0.820800   \n",
            "revol_util                     -0.009252     0.080583         -0.117724   \n",
            "total_acc                       0.006463     0.311268          0.255391   \n",
            "out_prncp                      -0.000840     0.207565          0.221319   \n",
            "out_prncp_inv                  -0.000841     0.207597          0.221361   \n",
            "total_pymnt                    -0.004203     0.169289          0.120593   \n",
            "total_pymnt_inv                -0.004202     0.169301          0.120602   \n",
            "total_rec_prncp                -0.003788     0.157435          0.118982   \n",
            "total_rec_int                  -0.003562     0.134022          0.073855   \n",
            "total_rec_late_fee             -0.000592     0.008831         -0.005545   \n",
            "recoveries                     -0.000919     0.004063         -0.000171   \n",
            "collection_recovery_fee        -0.000514     0.005704          0.001399   \n",
            "last_pymnt_amnt                -0.002568     0.103113          0.062068   \n",
            "collections_12_mths_ex_med      0.009686    -0.010622         -0.016808   \n",
            "acc_now_delinq                  0.000267     0.022804          0.008254   \n",
            "tot_coll_amt                    1.000000    -0.000331         -0.005025   \n",
            "tot_cur_bal                    -0.000331     1.000000          0.384867   \n",
            "total_rev_hi_lim               -0.005025     0.384867          1.000000   \n",
            "default_ind                    -0.001921    -0.036335         -0.033620   \n",
            "\n",
            "                            default_ind  \n",
            "loan_amnt                     -0.004907  \n",
            "funded_amnt                   -0.005797  \n",
            "funded_amnt_inv               -0.008209  \n",
            "int_rate                       0.155037  \n",
            "installment                    0.004753  \n",
            "annual_inc                    -0.037066  \n",
            "dti                            0.004429  \n",
            "delinq_2yrs                   -0.009186  \n",
            "inq_last_6mths                 0.074407  \n",
            "open_acc                      -0.021698  \n",
            "pub_rec                       -0.019607  \n",
            "revol_bal                     -0.020696  \n",
            "revol_util                     0.044497  \n",
            "total_acc                     -0.021087  \n",
            "out_prncp                     -0.225960  \n",
            "out_prncp_inv                 -0.225959  \n",
            "total_pymnt                   -0.039220  \n",
            "total_pymnt_inv               -0.040232  \n",
            "total_rec_prncp               -0.090336  \n",
            "total_rec_int                  0.046050  \n",
            "total_rec_late_fee             0.140760  \n",
            "recoveries                     0.475738  \n",
            "collection_recovery_fee        0.330764  \n",
            "last_pymnt_amnt               -0.087217  \n",
            "collections_12_mths_ex_med    -0.010650  \n",
            "acc_now_delinq                -0.003116  \n",
            "tot_coll_amt                  -0.001921  \n",
            "tot_cur_bal                   -0.036335  \n",
            "total_rev_hi_lim              -0.033620  \n",
            "default_ind                    1.000000  \n"
          ],
          "name": "stdout"
        }
      ]
    },
    {
      "cell_type": "markdown",
      "metadata": {
        "id": "NjWW9zQ47dKS"
      },
      "source": [
        "Loan_amnt, funded_amnt and funded_amnt_inv are highly corelated so keeping just one"
      ]
    },
    {
      "cell_type": "code",
      "metadata": {
        "id": "HIX_2YAk7dKT"
      },
      "source": [
        "dummy=dummy.drop(['funded_amnt','funded_amnt_inv'],axis=1) "
      ],
      "execution_count": 14,
      "outputs": []
    },
    {
      "cell_type": "markdown",
      "metadata": {
        "id": "bLyjtHPv7dKW"
      },
      "source": [
        "out_prncp_inv  and out_prncp are highly corelated so keeping just one<br>\n",
        "total_pymnt  total_pymnt_inv and total_rec_prncp are highly corelated so keeping just one"
      ]
    },
    {
      "cell_type": "code",
      "metadata": {
        "id": "JwyxlyIV7dKX"
      },
      "source": [
        "dummy=dummy.drop(['out_prncp_inv','total_pymnt_inv','total_rec_prncp'],axis=1) "
      ],
      "execution_count": 15,
      "outputs": []
    },
    {
      "cell_type": "markdown",
      "metadata": {
        "id": "XYx0G7RU7dKc"
      },
      "source": [
        "Handling date variables"
      ]
    },
    {
      "cell_type": "markdown",
      "metadata": {
        "id": "o5Rst2pA7dKd"
      },
      "source": [
        "Removing insignificant Date variables"
      ]
    },
    {
      "cell_type": "code",
      "metadata": {
        "id": "a3L6Z7P47dKd"
      },
      "source": [
        "dummy=dummy.drop(['next_pymnt_d'],axis=1) "
      ],
      "execution_count": 16,
      "outputs": []
    },
    {
      "cell_type": "markdown",
      "metadata": {
        "id": "ji04hhvv7dKj"
      },
      "source": [
        "Changing the format"
      ]
    },
    {
      "cell_type": "code",
      "metadata": {
        "id": "rXIu3pHd7dKk"
      },
      "source": [
        "dummy['issue_d'] = pd.to_datetime(dummy['issue_d'],infer_datetime_format=True, yearfirst=False)\n",
        "#dummy['earliest_cr_line'] = pd.to_datetime(dummy['earliest_cr_line'],infer_datetime_format=True, yearfirst=False)\n",
        "#dummy['last_credit_pull_d'] = pd.to_datetime(dummy['last_credit_pull_d'],infer_datetime_format=True, yearfirst=False)\n",
        "#dummy['last_pymnt_d'] = pd.to_datetime(dummy['last_pymnt_d'],infer_datetime_format=True, yearfirst=False)\n",
        "#%%\n",
        "#converting to year\n",
        "#dummy['earliest_cr_line'] = dummy['earliest_cr_line'].apply(lambda x: x.year)\n",
        "#dummy['last_credit_pull_d'] = dummy['last_credit_pull_d'].apply(lambda x: x.year)\n",
        "#dummy['last_pymnt_d'] = dummy['last_pymnt_d'].apply(lambda x: x.year)"
      ],
      "execution_count": 17,
      "outputs": []
    },
    {
      "cell_type": "markdown",
      "metadata": {
        "id": "m9Ifw6Aq7dKp"
      },
      "source": [
        "Data edits"
      ]
    },
    {
      "cell_type": "code",
      "metadata": {
        "id": "gPSnCnov7dKr"
      },
      "source": [
        "#removing spaces\n",
        "dummy.emp_length=dummy.emp_length.replace('10+ years','ten') \n",
        "dummy.emp_length=dummy.emp_length.replace('2 years','two') \n",
        "dummy.emp_length=dummy.emp_length.replace('< 1 year','zero') \n",
        "dummy.emp_length=dummy.emp_length.replace('3 years','three') \n",
        "dummy.emp_length=dummy.emp_length.replace('1 year','one') \n",
        "dummy.emp_length=dummy.emp_length.replace('5 years','five') \n",
        "dummy.emp_length=dummy.emp_length.replace('4 years','four') \n",
        "dummy.emp_length=dummy.emp_length.replace('7 years','seven') \n",
        "dummy.emp_length=dummy.emp_length.replace('8 years','eight') \n",
        "dummy.emp_length=dummy.emp_length.replace('6 years','six') \n",
        "dummy.emp_length=dummy.emp_length.replace('9 years','nine') "
      ],
      "execution_count": 18,
      "outputs": []
    },
    {
      "cell_type": "markdown",
      "metadata": {
        "id": "2v5DOmE47dKw"
      },
      "source": [
        "Data edits"
      ]
    },
    {
      "cell_type": "code",
      "metadata": {
        "id": "_Gv69N7t7dKx"
      },
      "source": [
        "#dummy.home_ownership=dummy.home_ownership.replace('NONE','OTHER') \n",
        "#dummy.home_ownership=dummy.home_ownership.replace('ANY','OTHER') "
      ],
      "execution_count": null,
      "outputs": []
    },
    {
      "cell_type": "markdown",
      "metadata": {
        "id": "m7U5JiUk7dK3"
      },
      "source": [
        "Data edits"
      ]
    },
    {
      "cell_type": "code",
      "metadata": {
        "id": "Ad7hnqfT7dK4"
      },
      "source": [
        "#Source Verified and Verified both have same meaning\r\n",
        "dummy.verification_status=dummy.verification_status.replace('Source Verified','Verified') "
      ],
      "execution_count": 19,
      "outputs": []
    },
    {
      "cell_type": "markdown",
      "metadata": {
        "id": "0KpUMNtsA6Hu"
      },
      "source": [
        "Treating missing values"
      ]
    },
    {
      "cell_type": "code",
      "metadata": {
        "colab": {
          "base_uri": "https://localhost:8080/"
        },
        "id": "0Kay_07fA2eC",
        "outputId": "15bc22a3-4c8f-49b2-ddc6-228719db21f3"
      },
      "source": [
        "dummy.isnull().sum()"
      ],
      "execution_count": 20,
      "outputs": [
        {
          "output_type": "execute_result",
          "data": {
            "text/plain": [
              "loan_amnt                         0\n",
              "term                              0\n",
              "int_rate                          0\n",
              "installment                       0\n",
              "sub_grade                         0\n",
              "emp_length                    43061\n",
              "home_ownership                    0\n",
              "annual_inc                        0\n",
              "verification_status               0\n",
              "issue_d                           0\n",
              "purpose                           0\n",
              "dti                               0\n",
              "delinq_2yrs                       0\n",
              "earliest_cr_line                  0\n",
              "inq_last_6mths                    0\n",
              "open_acc                          0\n",
              "pub_rec                           0\n",
              "revol_bal                         0\n",
              "revol_util                      446\n",
              "total_acc                         0\n",
              "initial_list_status               0\n",
              "out_prncp                         0\n",
              "total_pymnt                       0\n",
              "total_rec_int                     0\n",
              "total_rec_late_fee                0\n",
              "recoveries                        0\n",
              "collection_recovery_fee           0\n",
              "last_pymnt_d                   8862\n",
              "last_pymnt_amnt                   0\n",
              "last_credit_pull_d               50\n",
              "collections_12_mths_ex_med       56\n",
              "application_type                  0\n",
              "acc_now_delinq                    0\n",
              "tot_coll_amt                  67313\n",
              "tot_cur_bal                   67313\n",
              "total_rev_hi_lim              67313\n",
              "default_ind                       0\n",
              "dtype: int64"
            ]
          },
          "metadata": {
            "tags": []
          },
          "execution_count": 20
        }
      ]
    },
    {
      "cell_type": "code",
      "metadata": {
        "id": "5P7VWy0y7dLB"
      },
      "source": [
        "dummy['emp_length'].fillna(dummy['emp_length'].mode()[0],inplace=True)"
      ],
      "execution_count": 21,
      "outputs": []
    },
    {
      "cell_type": "code",
      "metadata": {
        "id": "Rdi1eH8xFT_f"
      },
      "source": [
        "dummy['revol_util'].fillna(round(dummy['revol_util'].mean(),0),inplace=True) #rounding of to 0"
      ],
      "execution_count": 22,
      "outputs": []
    },
    {
      "cell_type": "code",
      "metadata": {
        "id": "b-tqxQO2F7u-"
      },
      "source": [
        "dummy['tot_cur_bal'].fillna(round(dummy['tot_cur_bal'].mode()[0]),inplace=True) \r\n",
        "dummy['last_pymnt_d'].fillna((dummy['last_pymnt_d'].mode()[0]),inplace=True) \r\n",
        "dummy['last_credit_pull_d'].fillna((dummy['last_credit_pull_d'].mode()[0]),inplace=True) \r\n"
      ],
      "execution_count": 23,
      "outputs": []
    },
    {
      "cell_type": "code",
      "metadata": {
        "id": "coP0aWpqF70G"
      },
      "source": [
        "dummy['total_rev_hi_lim'].fillna(round(dummy['total_rev_hi_lim'].mode()[0]),inplace=True) #rounding of to 0\r\n"
      ],
      "execution_count": 24,
      "outputs": []
    },
    {
      "cell_type": "code",
      "metadata": {
        "id": "lkktIfKxFUF-"
      },
      "source": [
        "dummy['collections_12_mths_ex_med'].fillna(round(dummy['collections_12_mths_ex_med'].mean(),0),inplace=True) #rounding of to 0\r\n"
      ],
      "execution_count": 25,
      "outputs": []
    },
    {
      "cell_type": "code",
      "metadata": {
        "id": "0F9YTzV0FUM7"
      },
      "source": [
        "dummy['tot_coll_amt'].fillna(round(dummy['tot_coll_amt'].mode()[0]),inplace=True) #rounding of to 0"
      ],
      "execution_count": 26,
      "outputs": []
    },
    {
      "cell_type": "markdown",
      "metadata": {
        "id": "gU9MmtGO7dLL"
      },
      "source": [
        "Treating outliers \r\n",
        "\r\n",
        "Didn't found any significant differences in performance by treating outliers hence commented below codes"
      ]
    },
    {
      "cell_type": "code",
      "metadata": {
        "id": "6nTmSCn_7dLM"
      },
      "source": [
        "#q1 = dummy['int_rate'].quantile(0.25) #first quartile value\n",
        "#q3 = dummy['int_rate'].quantile(0.75) # third quartile value\n",
        "#iqr = q3-q1 #Interquartile range\n",
        "#low  = q1-1.5*iqr #acceptable range\n",
        "#high = q3+1.5*iqr #acceptable range"
      ],
      "execution_count": null,
      "outputs": []
    },
    {
      "cell_type": "code",
      "metadata": {
        "id": "EFSolGDe7dLU"
      },
      "source": [
        "#dummy.loc[dummy[\"int_rate\"] >high, \"int_rate\"] = high\n"
      ],
      "execution_count": null,
      "outputs": []
    },
    {
      "cell_type": "code",
      "metadata": {
        "id": "PoJtR-847dLZ"
      },
      "source": [
        "#q1 = dummy['installment'].quantile(0.25) #first quartile value\n",
        "#q3 = dummy['installment'].quantile(0.75) # third quartile value\n",
        "#iqr = q3-q1 #Interquartile range\n",
        "#low  = q1-1.5*iqr #acceptable range\n",
        "#high = q3+1.5*iqr #acceptable range"
      ],
      "execution_count": null,
      "outputs": []
    },
    {
      "cell_type": "code",
      "metadata": {
        "id": "JbSb-t9v7dLb"
      },
      "source": [
        "#dummy.loc[dummy[\"installment\"] >high, \"installment\"] = high"
      ],
      "execution_count": null,
      "outputs": []
    },
    {
      "cell_type": "code",
      "metadata": {
        "id": "nYqnwboF7dLg"
      },
      "source": [
        "#q1 = dummy['annual_inc'].quantile(0.25) #first quartile value\n",
        "#q3 = dummy['annual_inc'].quantile(0.75) # third quartile value\n",
        "#iqr = q3-q1 #Interquartile range\n",
        "#low  = q1-1.5*iqr #acceptable range\n",
        "#high = q3+1.5*iqr #acceptable range"
      ],
      "execution_count": null,
      "outputs": []
    },
    {
      "cell_type": "code",
      "metadata": {
        "id": "QEjOjkB57dLj"
      },
      "source": [
        "#dummy.loc[dummy[\"annual_inc\"] >high, \"annual_inc\"] = high\n"
      ],
      "execution_count": null,
      "outputs": []
    },
    {
      "cell_type": "code",
      "metadata": {
        "id": "gTR1Y0CV7dLp"
      },
      "source": [
        "#q1 = dummy['dti'].quantile(0.25) #first quartile value\n",
        "#q3 = dummy['dti'].quantile(0.75) # third quartile value\n",
        "#iqr = q3-q1 #Interquartile range\n",
        "#low  = q1-1.5*iqr #acceptable range\n",
        "#high = q3+1.5*iqr #acceptable range\n",
        "#dummy.loc[dummy[\"dti\"] >high, \"dti\"] = high"
      ],
      "execution_count": null,
      "outputs": []
    },
    {
      "cell_type": "code",
      "metadata": {
        "id": "kNMfLfsr7dLx"
      },
      "source": [
        "#q1 = dummy['open_acc'].quantile(0.25) #first quartile value\n",
        "#q3 = dummy['open_acc'].quantile(0.75) # third quartile value\n",
        "#iqr = q3-q1 #Interquartile range\n",
        "#low  = q1-1.5*iqr #acceptable range\n",
        "#high = q3+1.5*iqr #acceptable range\n",
        "#dummy.loc[dummy[\"open_acc\"] >high, \"open_acc\"] = high"
      ],
      "execution_count": null,
      "outputs": []
    },
    {
      "cell_type": "code",
      "metadata": {
        "id": "7PYTs4zs7dL5"
      },
      "source": [
        "#q1 = dummy['revol_bal'].quantile(0.25) #first quartile value\n",
        "#q3 = dummy['revol_bal'].quantile(0.75) # third quartile value\n",
        "#iqr = q3-q1 #Interquartile range\n",
        "#low  = q1-1.5*iqr #acceptable range\n",
        "#high = q3+1.5*iqr #acceptable range\n",
        "#dummy.loc[dummy[\"revol_bal\"] >high, \"revol_bal\"] = high"
      ],
      "execution_count": null,
      "outputs": []
    },
    {
      "cell_type": "code",
      "metadata": {
        "id": "llEjWhBO7dMB"
      },
      "source": [
        "#q1 = dummy['total_acc'].quantile(0.25) #first quartile value\n",
        "#q3 = dummy['total_acc'].quantile(0.75) # third quartile value\n",
        "#iqr = q3-q1 #Interquartile range\n",
        "#low  = q1-1.5*iqr #acceptable range\n",
        "#high = q3+1.5*iqr #acceptable range\n",
        "#dummy.loc[dummy[\"total_acc\"] >high, \"total_acc\"] = high"
      ],
      "execution_count": null,
      "outputs": []
    },
    {
      "cell_type": "code",
      "metadata": {
        "id": "GE4P3tkj7dMJ"
      },
      "source": [
        "#q1 = dummy['out_prncp'].quantile(0.25) #first quartile value\n",
        "#q3 = dummy['out_prncp'].quantile(0.75) # third quartile value\n",
        "#iqr = q3-q1 #Interquartile range\n",
        "#low  = q1-1.5*iqr #acceptable range\n",
        "#high = q3+1.5*iqr #acceptable range\n",
        "#dummy.loc[dummy[\"out_prncp\"] >high, \"out_prncp\"] = high"
      ],
      "execution_count": null,
      "outputs": []
    },
    {
      "cell_type": "code",
      "metadata": {
        "id": "9Glxelns7dMT"
      },
      "source": [
        "#q1 = dummy['total_pymnt'].quantile(0.25) #first quartile value\n",
        "#q3 = dummy['total_pymnt'].quantile(0.75) # third quartile value\n",
        "#iqr = q3-q1 #Interquartile range\n",
        "#low  = q1-1.5*iqr #acceptable range\n",
        "#high = q3+1.5*iqr #acceptable range\n",
        "#dummy.loc[dummy[\"total_pymnt\"] >high, \"total_pymnt\"] = high"
      ],
      "execution_count": null,
      "outputs": []
    },
    {
      "cell_type": "code",
      "metadata": {
        "id": "3kyq-HEU7dMe"
      },
      "source": [
        "#q1 = dummy['total_rec_int'].quantile(0.25) #first quartile value\n",
        "#q3 = dummy['total_rec_int'].quantile(0.75) # third quartile value\n",
        "#iqr = q3-q1 #Interquartile range\n",
        "#low  = q1-1.5*iqr #acceptable range\n",
        "#high = q3+1.5*iqr #acceptable range\n",
        "#dummy.loc[dummy[\"total_rec_int\"] >high, \"total_rec_int\"] = high"
      ],
      "execution_count": null,
      "outputs": []
    },
    {
      "cell_type": "code",
      "metadata": {
        "id": "tD3qXWOK7dMn"
      },
      "source": [
        "#q1 = dummy['last_pymnt_amnt'].quantile(0.25) #first quartile value\n",
        "#q3 = dummy['last_pymnt_amnt'].quantile(0.75) # third quartile value\n",
        "#iqr = q3-q1 #Interquartile range\n",
        "#low  = q1-1.5*iqr #acceptable range\n",
        "#high = q3+1.5*iqr #acceptable range\n",
        "#dummy.loc[dummy[\"last_pymnt_amnt\"] >high, \"last_pymnt_amnt\"] = high"
      ],
      "execution_count": null,
      "outputs": []
    },
    {
      "cell_type": "code",
      "metadata": {
        "id": "dnKA-QuV7dMx"
      },
      "source": [
        "#q1 = dummy['revol_util'].quantile(0.25) #first quartile value\n",
        "#q3 = dummy['revol_util'].quantile(0.75) # third quartile value\n",
        "#iqr = q3-q1 #Interquartile range\n",
        "#low  = q1-1.5*iqr #acceptable range\n",
        "#high = q3+1.5*iqr #acceptable range\n",
        "#dummy.loc[dummy[\"revol_util\"] >high, \"revol_util\"] = high"
      ],
      "execution_count": null,
      "outputs": []
    },
    {
      "cell_type": "code",
      "metadata": {
        "id": "gfZ1Bsmp7dNE"
      },
      "source": [
        "#q1 = dummy['tot_cur_bal'].quantile(0.25) #first quartile value\n",
        "#q3 = dummy['tot_cur_bal'].quantile(0.75) # third quartile value\n",
        "#iqr = q3-q1 #Interquartile range\n",
        "#low  = q1-1.5*iqr #acceptable range\n",
        "#high = q3+1.5*iqr #acceptable range\n",
        "#dummy.loc[dummy[\"tot_cur_bal\"] >high, \"tot_cur_bal\"] = high"
      ],
      "execution_count": null,
      "outputs": []
    },
    {
      "cell_type": "code",
      "metadata": {
        "id": "QhDRx3LP7dNQ"
      },
      "source": [
        "#q1 = dummy['total_rev_hi_lim'].quantile(0.25) #first quartile value\n",
        "#q3 = dummy['total_rev_hi_lim'].quantile(0.75) # third quartile value\n",
        "#iqr = q3-q1 #Interquartile range\n",
        "#low  = q1-1.5*iqr #acceptable range\n",
        "#high = q3+1.5*iqr #acceptable range\n",
        "#dummy.loc[dummy[\"total_rev_hi_lim\"] >high, \"total_rev_hi_lim\"] = high"
      ],
      "execution_count": null,
      "outputs": []
    },
    {
      "cell_type": "code",
      "metadata": {
        "id": "_zy23DP87dNl",
        "colab": {
          "base_uri": "https://localhost:8080/"
        },
        "outputId": "62193e4c-e76c-4a97-fa88-bc894f13a9b7"
      },
      "source": [
        "dummy.isnull().sum()  #checking missing values\n"
      ],
      "execution_count": 27,
      "outputs": [
        {
          "output_type": "execute_result",
          "data": {
            "text/plain": [
              "loan_amnt                     0\n",
              "term                          0\n",
              "int_rate                      0\n",
              "installment                   0\n",
              "sub_grade                     0\n",
              "emp_length                    0\n",
              "home_ownership                0\n",
              "annual_inc                    0\n",
              "verification_status           0\n",
              "issue_d                       0\n",
              "purpose                       0\n",
              "dti                           0\n",
              "delinq_2yrs                   0\n",
              "earliest_cr_line              0\n",
              "inq_last_6mths                0\n",
              "open_acc                      0\n",
              "pub_rec                       0\n",
              "revol_bal                     0\n",
              "revol_util                    0\n",
              "total_acc                     0\n",
              "initial_list_status           0\n",
              "out_prncp                     0\n",
              "total_pymnt                   0\n",
              "total_rec_int                 0\n",
              "total_rec_late_fee            0\n",
              "recoveries                    0\n",
              "collection_recovery_fee       0\n",
              "last_pymnt_d                  0\n",
              "last_pymnt_amnt               0\n",
              "last_credit_pull_d            0\n",
              "collections_12_mths_ex_med    0\n",
              "application_type              0\n",
              "acc_now_delinq                0\n",
              "tot_coll_amt                  0\n",
              "tot_cur_bal                   0\n",
              "total_rev_hi_lim              0\n",
              "default_ind                   0\n",
              "dtype: int64"
            ]
          },
          "metadata": {
            "tags": []
          },
          "execution_count": 27
        }
      ]
    },
    {
      "cell_type": "markdown",
      "metadata": {
        "id": "q-iIIsPO-RBL"
      },
      "source": [
        "categorical data"
      ]
    },
    {
      "cell_type": "code",
      "metadata": {
        "id": "Y738kKm-7dNs",
        "colab": {
          "base_uri": "https://localhost:8080/"
        },
        "outputId": "5165211b-1d07-418f-d799-ddc5ead7b671"
      },
      "source": [
        "from sklearn.preprocessing import StandardScaler, MinMaxScaler\n",
        "scaler = MinMaxScaler()\n",
        "colname=[]\n",
        "for x in dummy.columns[:] :\n",
        "    if dummy[x].dtype=='object':   #find all categorical value\n",
        "        colname.append(x)   #add all categorical to list\n",
        "#    else:\n",
        "#      if x not in ['issue_d','default_ind']:\n",
        "#        dummy[x]=scaler.fit_transform(np.array(dummy[x]).reshape(-1,1))\n",
        "colname"
      ],
      "execution_count": 28,
      "outputs": [
        {
          "output_type": "execute_result",
          "data": {
            "text/plain": [
              "['term',\n",
              " 'sub_grade',\n",
              " 'emp_length',\n",
              " 'home_ownership',\n",
              " 'verification_status',\n",
              " 'purpose',\n",
              " 'earliest_cr_line',\n",
              " 'initial_list_status',\n",
              " 'last_pymnt_d',\n",
              " 'last_credit_pull_d',\n",
              " 'application_type']"
            ]
          },
          "metadata": {
            "tags": []
          },
          "execution_count": 28
        }
      ]
    },
    {
      "cell_type": "code",
      "metadata": {
        "id": "WIdSHQLKWMpb"
      },
      "source": [
        "term        = pd.get_dummies(dummy.term       ,prefix='term'\t, drop_first = True)\n",
        "sub_grade    = pd.get_dummies(dummy.sub_grade   ,prefix='sub_grade'  , drop_first = True)\n",
        "emp_length      = pd.get_dummies(dummy.emp_length     ,prefix='emp_length'    , drop_first = True)\n",
        "home_ownership      = pd.get_dummies(dummy.home_ownership     ,prefix='home_ownership'    , drop_first = True)\n",
        "verification_status        = pd.get_dummies(dummy.verification_status       ,prefix='verification_status'\t, drop_first = True)\n",
        "purpose      = pd.get_dummies(dummy.purpose     ,prefix='purpose'\t, drop_first = True)\n",
        "#earliest_cr_line       = pd.get_dummies(dummy.earliest_cr_line      ,prefix='earliest_cr_line'\t, drop_first = True)\n",
        "initial_list_status        = pd.get_dummies(dummy.initial_list_status       ,prefix='initial_list_status'\t, drop_first = True)\n",
        "#last_pymnt_d       = pd.get_dummies(dummy.last_pymnt_d      ,prefix='last_pymnt_d'\t, drop_first = True)\n",
        "#last_credit_pull_d        = pd.get_dummies(dummy.last_credit_pull_d       ,prefix='last_credit_pull_d'\t, drop_first = True)\n",
        "application_type    = pd.get_dummies(dummy.application_type   ,prefix='application_type'\t, drop_first = True)\n",
        "\n",
        "dummy= pd.concat([dummy,term,sub_grade,emp_length,home_ownership,verification_status,purpose\n",
        "                    ,initial_list_status,application_type], axis = 1)\n",
        "\n",
        "#removing categorical column\n",
        "dummy = dummy.drop(['term', 'sub_grade', 'emp_length', 'home_ownership', 'verification_status', 'purpose', 'earliest_cr_line',\n",
        " 'initial_list_status', 'last_pymnt_d', 'last_credit_pull_d', 'application_type'], axis = 1)\n"
      ],
      "execution_count": 29,
      "outputs": []
    },
    {
      "cell_type": "code",
      "metadata": {
        "colab": {
          "base_uri": "https://localhost:8080/"
        },
        "id": "QlJsp9MJXXIW",
        "outputId": "b0674ee5-8d33-4737-8a2f-e4a6cafa8295"
      },
      "source": [
        "#randomizing the data\n",
        "dummy = dummy.sample(frac = 1) \n",
        "dummy.shape\n"
      ],
      "execution_count": 30,
      "outputs": [
        {
          "output_type": "execute_result",
          "data": {
            "text/plain": [
              "(855969, 92)"
            ]
          },
          "metadata": {
            "tags": []
          },
          "execution_count": 30
        }
      ]
    },
    {
      "cell_type": "code",
      "metadata": {
        "id": "Y4qmg0UG7dOf"
      },
      "source": [
        "#df_DT=pd.DataFrame.copy(dummy) \n",
        "df=pd.DataFrame.copy(dummy) "
      ],
      "execution_count": 31,
      "outputs": []
    },
    {
      "cell_type": "markdown",
      "metadata": {
        "id": "VPeVZIRu7dOh"
      },
      "source": [
        "Splitting data "
      ]
    },
    {
      "cell_type": "code",
      "metadata": {
        "id": "wzv8nnhl7dOi"
      },
      "source": [
        "from sklearn.model_selection import train_test_split\n",
        "test_size = 0.1\n",
        "seed = 11\n",
        "X_train, X_test, Y_train, Y_test = train_test_split(df.drop('default_ind',axis=1), df['default_ind'],\n",
        "test_size = test_size, random_state = seed, stratify = df['default_ind'])\n"
      ],
      "execution_count": 32,
      "outputs": []
    },
    {
      "cell_type": "code",
      "metadata": {
        "colab": {
          "base_uri": "https://localhost:8080/"
        },
        "id": "yjvH01dDdY6j",
        "outputId": "b6c87a4d-7960-4fcc-9b2f-fdf6c197e802"
      },
      "source": [
        "print(Y_train.value_counts())\n",
        "print(Y_test.value_counts())\n"
      ],
      "execution_count": 33,
      "outputs": [
        {
          "output_type": "stream",
          "text": [
            "0    728552\n",
            "1     41820\n",
            "Name: default_ind, dtype: int64\n",
            "0    80950\n",
            "1     4647\n",
            "Name: default_ind, dtype: int64\n"
          ],
          "name": "stdout"
        }
      ]
    },
    {
      "cell_type": "markdown",
      "metadata": {
        "id": "jRNZDXZ37dOk"
      },
      "source": [
        "Standardizing numeric data"
      ]
    },
    {
      "cell_type": "code",
      "metadata": {
        "id": "dF2vw4YC7dOk"
      },
      "source": [
        "numlist=['loan_amnt', 'int_rate', 'installment', 'annual_inc', 'issue_d', 'dti', 'delinq_2yrs', 'inq_last_6mths', 'open_acc', 'pub_rec', 'revol_bal', 'revol_util', 'total_acc', 'out_prncp',\n",
        "'total_pymnt', 'total_rec_int', 'total_rec_late_fee', 'recoveries', 'collection_recovery_fee', 'last_pymnt_amnt', 'collections_12_mths_ex_med', 'acc_now_delinq', 'tot_coll_amt',\n",
        "'tot_cur_bal', 'total_rev_hi_lim']\n",
        "\n",
        "from sklearn.preprocessing import StandardScaler, MinMaxScaler\n",
        "\n",
        "for x in numlist :\n",
        "  scaler = MinMaxScaler()\n",
        "  scaler1=scaler.fit(np.array(X_train[x]).reshape(-1,1))\n",
        "  X_train[x]=scaler1.transform(np.array(X_train[x]).reshape(-1,1))\n",
        "  X_test[x]=scaler1.transform(np.array(X_test[x]).reshape(-1,1))\n",
        "\n"
      ],
      "execution_count": 34,
      "outputs": []
    },
    {
      "cell_type": "code",
      "metadata": {
        "colab": {
          "base_uri": "https://localhost:8080/"
        },
        "id": "gCzGsGwLcoIN",
        "outputId": "bf189014-8dee-4ef8-a44e-0c54db1610b5"
      },
      "source": [
        "print(X_train.shape)\n",
        "print(Y_train.shape)\n",
        "print(X_test.shape)\n",
        "print(Y_test.shape)\n"
      ],
      "execution_count": 35,
      "outputs": [
        {
          "output_type": "stream",
          "text": [
            "(770372, 91)\n",
            "(770372,)\n",
            "(85597, 91)\n",
            "(85597,)\n"
          ],
          "name": "stdout"
        }
      ]
    },
    {
      "cell_type": "markdown",
      "metadata": {
        "id": "TniI5RqG7dOq"
      },
      "source": [
        "logistic Regression"
      ]
    },
    {
      "cell_type": "code",
      "metadata": {
        "id": "Bz78qgHU7dOr"
      },
      "source": [
        "from sklearn.linear_model import LogisticRegression #linear_model library all linear model\n",
        "#classifier=LogisticRegression() #classifier becomes a logistic model"
      ],
      "execution_count": 36,
      "outputs": []
    },
    {
      "cell_type": "code",
      "metadata": {
        "id": "jLn6bLAa7dOt"
      },
      "source": [
        "#classifier=LogisticRegression(C=1.0, class_weight=None, dual=False, fit_intercept=True,\n",
        "#                 intercept_scaling=1, max_iter=100, multi_class='warn',\n",
        "#                 n_jobs=None, penalty='l2', random_state=None, solver='warn',\n",
        "#                 tol=0.0001, verbose=0, warm_start=False)\n",
        "#classifier.fit(X_train,Y_train) #creating a model using fit passing x and y,model is created\n",
        "classifier = LogisticRegression(random_state = 10, class_weight='balanced', max_iter = 1000)\n",
        "classifier.fit(X_train,Y_train)\n",
        "Y_pred=classifier.predict(X_test)  #model predicts y for testing data\n",
        "#print(list(zip(Y_test,Y_pred)))\n",
        "#print(classifier.coef_)\n",
        "#print(classifier.intercept_)"
      ],
      "execution_count": 37,
      "outputs": []
    },
    {
      "cell_type": "code",
      "metadata": {
        "id": "t7CCcUM27dOw"
      },
      "source": [
        "from sklearn.metrics import confusion_matrix,accuracy_score,classification_report"
      ],
      "execution_count": 38,
      "outputs": []
    },
    {
      "cell_type": "code",
      "metadata": {
        "colab": {
          "base_uri": "https://localhost:8080/"
        },
        "id": "971dAD0kCp0U",
        "outputId": "435e7bd6-3a66-4343-8a3b-005bc9e2ab73"
      },
      "source": [
        "print('classification report: ')\r\n",
        "print(classification_report(Y_train,classifier.predict(X_train)))"
      ],
      "execution_count": 39,
      "outputs": [
        {
          "output_type": "stream",
          "text": [
            "classification report: \n",
            "              precision    recall  f1-score   support\n",
            "\n",
            "           0       1.00      0.99      1.00    728552\n",
            "           1       0.89      0.96      0.93     41820\n",
            "\n",
            "    accuracy                           0.99    770372\n",
            "   macro avg       0.94      0.98      0.96    770372\n",
            "weighted avg       0.99      0.99      0.99    770372\n",
            "\n"
          ],
          "name": "stdout"
        }
      ]
    },
    {
      "cell_type": "code",
      "metadata": {
        "id": "cqyrCIdP7dOy",
        "colab": {
          "base_uri": "https://localhost:8080/"
        },
        "outputId": "8bc6b22e-1d9a-42b7-a02b-48f2245c4b32"
      },
      "source": [
        "cfm=confusion_matrix(Y_test,Y_pred)\n",
        "print(cfm)"
      ],
      "execution_count": 40,
      "outputs": [
        {
          "output_type": "stream",
          "text": [
            "[[80386   564]\n",
            " [  189  4458]]\n"
          ],
          "name": "stdout"
        }
      ]
    },
    {
      "cell_type": "code",
      "metadata": {
        "id": "ep5kUQI77dO0",
        "colab": {
          "base_uri": "https://localhost:8080/"
        },
        "outputId": "1d9ab209-2d48-4ef6-f003-7c9533667d20"
      },
      "source": [
        "print('classification report: ')\n",
        "print(classification_report(Y_test,Y_pred))"
      ],
      "execution_count": 41,
      "outputs": [
        {
          "output_type": "stream",
          "text": [
            "classification report: \n",
            "              precision    recall  f1-score   support\n",
            "\n",
            "           0       1.00      0.99      1.00     80950\n",
            "           1       0.89      0.96      0.92      4647\n",
            "\n",
            "    accuracy                           0.99     85597\n",
            "   macro avg       0.94      0.98      0.96     85597\n",
            "weighted avg       0.99      0.99      0.99     85597\n",
            "\n"
          ],
          "name": "stdout"
        }
      ]
    },
    {
      "cell_type": "code",
      "metadata": {
        "id": "QKH3S1TO7dO4",
        "colab": {
          "base_uri": "https://localhost:8080/"
        },
        "outputId": "bc79c6c3-199d-4ca5-85f6-efa050cd6275"
      },
      "source": [
        "acc=accuracy_score(Y_test,Y_pred)\n",
        "print('accuracy of the model is:',acc)"
      ],
      "execution_count": 42,
      "outputs": [
        {
          "output_type": "stream",
          "text": [
            "accuracy of the model is: 0.9912029627206561\n"
          ],
          "name": "stdout"
        }
      ]
    },
    {
      "cell_type": "markdown",
      "metadata": {
        "id": "oklkF3jI7dO_"
      },
      "source": [
        "Roc curve"
      ]
    },
    {
      "cell_type": "code",
      "metadata": {
        "id": "u46gIubo7dO_"
      },
      "source": [
        "from sklearn import metrics"
      ],
      "execution_count": 43,
      "outputs": []
    },
    {
      "cell_type": "code",
      "metadata": {
        "id": "R_D1uMLz7dPC",
        "colab": {
          "base_uri": "https://localhost:8080/"
        },
        "outputId": "70d9b69a-c5bf-4f17-a09a-dd972ad65ad6"
      },
      "source": [
        "fpr, tpr,z = metrics.roc_curve(Y_test, Y_pred)\n",
        "auc = metrics.auc(fpr,tpr)\n",
        "print(auc)\n",
        "print(fpr)\n",
        "print(tpr)\n",
        " "
      ],
      "execution_count": 44,
      "outputs": [
        {
          "output_type": "stream",
          "text": [
            "0.9761806676765699\n",
            "[0.         0.00696726 1.        ]\n",
            "[0.        0.9593286 1.       ]\n"
          ],
          "name": "stdout"
        }
      ]
    },
    {
      "cell_type": "code",
      "metadata": {
        "id": "0knC2PfC7dPG",
        "colab": {
          "base_uri": "https://localhost:8080/",
          "height": 312
        },
        "outputId": "1ced5359-b0d7-499e-f28a-4360be447f04"
      },
      "source": [
        "import matplotlib.pyplot as plt\n",
        "%matplotlib inline\n",
        "plt.title('Receiver Operating Characteristic')\n",
        "plt.plot(fpr, tpr, 'b', label = auc)\n",
        "plt.legend(loc = 'lower right')\n",
        "plt.plot([0, 1], [0, 1],'r--')\n",
        "plt.xlim([0, 1])\n",
        "plt.ylim([0, 1])\n",
        "plt.xlabel('False Positive Rate')\n",
        "plt.ylabel('True Positive Rate')"
      ],
      "execution_count": 45,
      "outputs": [
        {
          "output_type": "execute_result",
          "data": {
            "text/plain": [
              "Text(0, 0.5, 'True Positive Rate')"
            ]
          },
          "metadata": {
            "tags": []
          },
          "execution_count": 45
        },
        {
          "output_type": "display_data",
          "data": {
            "image/png": "[encoded data removed]",
            "text/plain": [
              "<Figure size 432x288 with 1 Axes>"
            ]
          },
          "metadata": {
            "tags": [],
            "needs_background": "light"
          }
        }
      ]
    },
    {
      "cell_type": "code",
      "metadata": {
        "colab": {
          "base_uri": "https://localhost:8080/",
          "height": 312
        },
        "id": "T3FhnAr_jLUH",
        "outputId": "a76afe74-fa53-4773-da40-ef3e5d920c4e"
      },
      "source": [
        "from sklearn.metrics import precision_recall_curve\n",
        "probs = classifier.predict_proba(X_test)\n",
        "preds = probs[:,1]\n",
        "precision, recall, threshold = precision_recall_curve(Y_test, preds)\n",
        "\n",
        "plt.title(\"Precision-Recall vs Threshold Chart\")\n",
        "plt.plot(threshold, precision[: -1], \"b--\", label=\"Precision\")\n",
        "plt.plot(threshold, recall[: -1], \"r--\", label=\"Recall\")\n",
        "plt.ylabel(\"Precision, Recall\")\n",
        "plt.xlabel(\"Threshold\")\n",
        "plt.legend(loc=\"best\")\n",
        "plt.ylim([0,1]) "
      ],
      "execution_count": 46,
      "outputs": [
        {
          "output_type": "execute_result",
          "data": {
            "text/plain": [
              "(0.0, 1.0)"
            ]
          },
          "metadata": {
            "tags": []
          },
          "execution_count": 46
        },
        {
          "output_type": "display_data",
          "data": {
            "image/png": "[encoded data removed]",
            "text/plain": [
              "<Figure size 432x288 with 1 Axes>"
            ]
          },
          "metadata": {
            "tags": [],
            "needs_background": "light"
          }
        }
      ]
    },
    {
      "cell_type": "code",
      "metadata": {
        "colab": {
          "base_uri": "https://localhost:8080/"
        },
        "id": "m_3Lw9fDjAqM",
        "outputId": "5a18bec3-f9ab-49ad-b566-8161dbff3748"
      },
      "source": [
        "threshold = 0.7\n",
        "pred = np.where(classifier.predict_proba(X_test)[:,1] >= threshold, 1, 0)\n",
        "labels = [1, 0]\n",
        "con_mat2 = confusion_matrix(Y_test, pred, labels = labels )\n",
        "print(con_mat2)\n",
        "\n",
        "from sklearn.metrics import accuracy_score\n",
        "actual = Y_test\n",
        "predicted = pred\n",
        "print ('Accuracy Score :',accuracy_score(actual, predicted)) \n",
        "print ('Report : ')\n",
        "print (classification_report(actual, predicted))"
      ],
      "execution_count": 47,
      "outputs": [
        {
          "output_type": "stream",
          "text": [
            "[[ 4387   260]\n",
            " [  236 80714]]\n",
            "Accuracy Score : 0.9942054043950138\n",
            "Report : \n",
            "              precision    recall  f1-score   support\n",
            "\n",
            "           0       1.00      1.00      1.00     80950\n",
            "           1       0.95      0.94      0.95      4647\n",
            "\n",
            "    accuracy                           0.99     85597\n",
            "   macro avg       0.97      0.97      0.97     85597\n",
            "weighted avg       0.99      0.99      0.99     85597\n",
            "\n"
          ],
          "name": "stdout"
        }
      ]
    },
    {
      "cell_type": "markdown",
      "metadata": {
        "id": "Muup6y0l_yWN"
      },
      "source": [
        "Ramdom Forest"
      ]
    },
    {
      "cell_type": "code",
      "metadata": {
        "colab": {
          "base_uri": "https://localhost:8080/"
        },
        "id": "2mby2WwRlIXF",
        "outputId": "10578104-9dad-49da-fa4b-81ade843a68b"
      },
      "source": [
        "from sklearn.ensemble import RandomForestClassifier\n",
        "\n",
        "model = RandomForestClassifier(random_state=50, n_estimators= 200, oob_score=True, class_weight={0: 1, 1: 10}, max_features=10,max_depth=10 )\n",
        "model.fit(X_train, Y_train)\n",
        "\n",
        "predictions = model.predict(X_test)\n",
        "score = model.score(X_test, Y_test)\n",
        "\n",
        "print(\"Training\")\n",
        "print(\"Accuracy {0:.2f}%\".format(100*accuracy_score(model.predict(X_train), Y_train)))\n",
        "print(confusion_matrix(Y_train, model.predict(X_train)))\n",
        "print(classification_report(Y_train, model.predict(X_train)))\n",
        "\n",
        "print(\"testing\")\n",
        "print(\"Accuracy {0:.2f}%\".format(100*accuracy_score(predictions, Y_test)))\n",
        "print(confusion_matrix(Y_test, predictions))\n",
        "print(classification_report(Y_test, predictions))\n"
      ],
      "execution_count": 48,
      "outputs": [
        {
          "output_type": "stream",
          "text": [
            "Training\n",
            "Accuracy 99.03%\n",
            "[[722894   5658]\n",
            " [  1813  40007]]\n",
            "              precision    recall  f1-score   support\n",
            "\n",
            "           0       1.00      0.99      0.99    728552\n",
            "           1       0.88      0.96      0.91     41820\n",
            "\n",
            "    accuracy                           0.99    770372\n",
            "   macro avg       0.94      0.97      0.95    770372\n",
            "weighted avg       0.99      0.99      0.99    770372\n",
            "\n",
            "testing\n",
            "Accuracy 98.89%\n",
            "[[80257   693]\n",
            " [  260  4387]]\n",
            "              precision    recall  f1-score   support\n",
            "\n",
            "           0       1.00      0.99      0.99     80950\n",
            "           1       0.86      0.94      0.90      4647\n",
            "\n",
            "    accuracy                           0.99     85597\n",
            "   macro avg       0.93      0.97      0.95     85597\n",
            "weighted avg       0.99      0.99      0.99     85597\n",
            "\n"
          ],
          "name": "stdout"
        }
      ]
    },
    {
      "cell_type": "code",
      "metadata": {
        "id": "gPiHs5aCuDtn"
      },
      "source": [
        "!set GPU=1"
      ],
      "execution_count": 49,
      "outputs": []
    },
    {
      "cell_type": "markdown",
      "metadata": {
        "id": "AtBlawfk_1h2"
      },
      "source": [
        "Nueral network"
      ]
    },
    {
      "cell_type": "code",
      "metadata": {
        "id": "9rG341mwlIOL"
      },
      "source": [
        "# If you wish to use Tensorflow 1.X run the following line and then restart runtime\n",
        "# %tensorflow_version 1.x \n",
        "# You'll need to change your import statements from tensorflow.keras to keras\n",
        "import tensorflow.keras\n",
        "from tensorflow.keras.models import Sequential\n",
        "from tensorflow.keras.layers import Dense\n",
        "from tensorflow.keras.layers import Dropout,BatchNormalization\n",
        "from tensorflow.keras.regularizers import l2\n",
        "from keras.layers import LeakyReLU\n",
        "from tensorflow.keras.optimizers import Adam\n",
        "model = Sequential()\n",
        "model.add(Dense(100,input_dim=91 ,activation='relu',kernel_regularizer=l2(0.01)))\n",
        "model.add(BatchNormalization())\n",
        "model.add(Dropout(0.7))\n",
        "model.add(Dense(100,activation='relu',kernel_regularizer=l2(0.01)))\n",
        "model.add(BatchNormalization())\n",
        "model.add(Dropout(0.7))\n",
        "model.add(Dense(100,activation='relu',kernel_regularizer=l2(0.01)))\n",
        "model.add(BatchNormalization())\n",
        "model.add(Dropout(0.7))\n",
        "model.add(Dense(1, activation = \"sigmoid\"))\n"
      ],
      "execution_count": 50,
      "outputs": []
    },
    {
      "cell_type": "code",
      "metadata": {
        "colab": {
          "base_uri": "https://localhost:8080/"
        },
        "id": "gdHV1cytlIJw",
        "outputId": "070c80eb-452d-490a-cb9b-1aa26e3b8922"
      },
      "source": [
        "# Start Training Our Classifier \n",
        "#batch_size = 256\n",
        "#epochs = 100\n",
        "INIT_LR = 0.00001\n",
        "\n",
        "batch_size = 512\n",
        "epochs = 500\n",
        "\n",
        "class_weight = {0: 1,\n",
        "                1: 4}\n",
        "\n",
        "opt = Adam(lr=INIT_LR, decay=INIT_LR / epochs)\n",
        "model.compile(optimizer= opt,loss = \"binary_crossentropy\",metrics = [\"accuracy\"])\n",
        "\n",
        "history = model.fit(X_train,\n",
        "                    Y_train,\n",
        "                    batch_size = batch_size,\n",
        "                    epochs = epochs,\n",
        "                    verbose = 1,\n",
        "                     class_weight=class_weight,\n",
        "                    validation_data = (X_test, Y_test))\n",
        "\n",
        "score = model.evaluate(X_test, Y_test, verbose=0)\n",
        "print('Test loss:', score[0])\n",
        "print('Test accuracy:', score[1])"
      ],
      "execution_count": 51,
      "outputs": [
        {
          "output_type": "stream",
          "text": [
            "Epoch 1/500\n",
            "1505/1505 [==============================] - 12s 6ms/step - loss: 4.3071 - accuracy: 0.4767 - val_loss: 3.9943 - val_accuracy: 0.0558\n",
            "Epoch 2/500\n",
            "1505/1505 [==============================] - 7s 5ms/step - loss: 3.9268 - accuracy: 0.5151 - val_loss: 3.5355 - val_accuracy: 0.0803\n",
            "Epoch 3/500\n",
            "1505/1505 [==============================] - 7s 5ms/step - loss: 3.6116 - accuracy: 0.5547 - val_loss: 3.1811 - val_accuracy: 0.2448\n",
            "Epoch 4/500\n",
            "1505/1505 [==============================] - 7s 5ms/step - loss: 3.3305 - accuracy: 0.5922 - val_loss: 2.9017 - val_accuracy: 0.5140\n",
            "Epoch 5/500\n",
            "1505/1505 [==============================] - 7s 5ms/step - loss: 3.0828 - accuracy: 0.6298 - val_loss: 2.6608 - val_accuracy: 0.7574\n",
            "Epoch 6/500\n",
            "1505/1505 [==============================] - 7s 5ms/step - loss: 2.8616 - accuracy: 0.6651 - val_loss: 2.4523 - val_accuracy: 0.8800\n",
            "Epoch 7/500\n",
            "1505/1505 [==============================] - 7s 5ms/step - loss: 2.6593 - accuracy: 0.6999 - val_loss: 2.2685 - val_accuracy: 0.9260\n",
            "Epoch 8/500\n",
            "1505/1505 [==============================] - 7s 5ms/step - loss: 2.4799 - accuracy: 0.7304 - val_loss: 2.1053 - val_accuracy: 0.9404\n",
            "Epoch 9/500\n",
            "1505/1505 [==============================] - 8s 5ms/step - loss: 2.3156 - accuracy: 0.7600 - val_loss: 1.9566 - val_accuracy: 0.9439\n",
            "Epoch 10/500\n",
            "1505/1505 [==============================] - 7s 5ms/step - loss: 2.1629 - accuracy: 0.7875 - val_loss: 1.8206 - val_accuracy: 0.9452\n",
            "Epoch 11/500\n",
            "1505/1505 [==============================] - 8s 5ms/step - loss: 2.0256 - accuracy: 0.8121 - val_loss: 1.6979 - val_accuracy: 0.9455\n",
            "Epoch 12/500\n",
            "1505/1505 [==============================] - 7s 5ms/step - loss: 1.9012 - accuracy: 0.8334 - val_loss: 1.5836 - val_accuracy: 0.9456\n",
            "Epoch 13/500\n",
            "1505/1505 [==============================] - 7s 5ms/step - loss: 1.7891 - accuracy: 0.8517 - val_loss: 1.4784 - val_accuracy: 0.9456\n",
            "Epoch 14/500\n",
            "1505/1505 [==============================] - 7s 5ms/step - loss: 1.6827 - accuracy: 0.8657 - val_loss: 1.3809 - val_accuracy: 0.9456\n",
            "Epoch 15/500\n",
            "1505/1505 [==============================] - 7s 5ms/step - loss: 1.5874 - accuracy: 0.8766 - val_loss: 1.2918 - val_accuracy: 0.9456\n",
            "Epoch 16/500\n",
            "1505/1505 [==============================] - 7s 5ms/step - loss: 1.4990 - accuracy: 0.8859 - val_loss: 1.2088 - val_accuracy: 0.9456\n",
            "Epoch 17/500\n",
            "1505/1505 [==============================] - 7s 5ms/step - loss: 1.4173 - accuracy: 0.8923 - val_loss: 1.1321 - val_accuracy: 0.9456\n",
            "Epoch 18/500\n",
            "1505/1505 [==============================] - 7s 5ms/step - loss: 1.3395 - accuracy: 0.8972 - val_loss: 1.0589 - val_accuracy: 0.9456\n",
            "Epoch 19/500\n",
            "1505/1505 [==============================] - 8s 5ms/step - loss: 1.2641 - accuracy: 0.9010 - val_loss: 0.9922 - val_accuracy: 0.9457\n",
            "Epoch 20/500\n",
            "1505/1505 [==============================] - 8s 5ms/step - loss: 1.1939 - accuracy: 0.9038 - val_loss: 0.9287 - val_accuracy: 0.9461\n",
            "Epoch 21/500\n",
            "1505/1505 [==============================] - 7s 5ms/step - loss: 1.1372 - accuracy: 0.9036 - val_loss: 0.8681 - val_accuracy: 0.9473\n",
            "Epoch 22/500\n",
            "1505/1505 [==============================] - 8s 5ms/step - loss: 1.0695 - accuracy: 0.9071 - val_loss: 0.8106 - val_accuracy: 0.9491\n",
            "Epoch 23/500\n",
            "1505/1505 [==============================] - 8s 5ms/step - loss: 1.0138 - accuracy: 0.9081 - val_loss: 0.7578 - val_accuracy: 0.9514\n",
            "Epoch 24/500\n",
            "1505/1505 [==============================] - 8s 5ms/step - loss: 0.9574 - accuracy: 0.9095 - val_loss: 0.7063 - val_accuracy: 0.9540\n",
            "Epoch 25/500\n",
            "1505/1505 [==============================] - 8s 5ms/step - loss: 0.9047 - accuracy: 0.9108 - val_loss: 0.6563 - val_accuracy: 0.9561\n",
            "Epoch 26/500\n",
            "1505/1505 [==============================] - 8s 5ms/step - loss: 0.8509 - accuracy: 0.9138 - val_loss: 0.6105 - val_accuracy: 0.9586\n",
            "Epoch 27/500\n",
            "1505/1505 [==============================] - 8s 5ms/step - loss: 0.8027 - accuracy: 0.9161 - val_loss: 0.5665 - val_accuracy: 0.9613\n",
            "Epoch 28/500\n",
            "1505/1505 [==============================] - 8s 5ms/step - loss: 0.7522 - accuracy: 0.9199 - val_loss: 0.5250 - val_accuracy: 0.9636\n",
            "Epoch 29/500\n",
            "1505/1505 [==============================] - 7s 5ms/step - loss: 0.7100 - accuracy: 0.9234 - val_loss: 0.4865 - val_accuracy: 0.9659\n",
            "Epoch 30/500\n",
            "1505/1505 [==============================] - 7s 5ms/step - loss: 0.6676 - accuracy: 0.9271 - val_loss: 0.4508 - val_accuracy: 0.9686\n",
            "Epoch 31/500\n",
            "1505/1505 [==============================] - 8s 5ms/step - loss: 0.6249 - accuracy: 0.9321 - val_loss: 0.4169 - val_accuracy: 0.9712\n",
            "Epoch 32/500\n",
            "1505/1505 [==============================] - 7s 5ms/step - loss: 0.5871 - accuracy: 0.9365 - val_loss: 0.3864 - val_accuracy: 0.9736\n",
            "Epoch 33/500\n",
            "1505/1505 [==============================] - 8s 5ms/step - loss: 0.5489 - accuracy: 0.9408 - val_loss: 0.3562 - val_accuracy: 0.9758\n",
            "Epoch 34/500\n",
            "1505/1505 [==============================] - 8s 5ms/step - loss: 0.5156 - accuracy: 0.9450 - val_loss: 0.3291 - val_accuracy: 0.9783\n",
            "Epoch 35/500\n",
            "1505/1505 [==============================] - 8s 5ms/step - loss: 0.4798 - accuracy: 0.9504 - val_loss: 0.3047 - val_accuracy: 0.9806\n",
            "Epoch 36/500\n",
            "1505/1505 [==============================] - 7s 5ms/step - loss: 0.4499 - accuracy: 0.9540 - val_loss: 0.2814 - val_accuracy: 0.9826\n",
            "Epoch 37/500\n",
            "1505/1505 [==============================] - 8s 5ms/step - loss: 0.4170 - accuracy: 0.9582 - val_loss: 0.2590 - val_accuracy: 0.9845\n",
            "Epoch 38/500\n",
            "1505/1505 [==============================] - 8s 5ms/step - loss: 0.3926 - accuracy: 0.9613 - val_loss: 0.2406 - val_accuracy: 0.9858\n",
            "Epoch 39/500\n",
            "1505/1505 [==============================] - 8s 5ms/step - loss: 0.3650 - accuracy: 0.9652 - val_loss: 0.2230 - val_accuracy: 0.9869\n",
            "Epoch 40/500\n",
            "1505/1505 [==============================] - 8s 5ms/step - loss: 0.3409 - accuracy: 0.9681 - val_loss: 0.2062 - val_accuracy: 0.9883\n",
            "Epoch 41/500\n",
            "1505/1505 [==============================] - 8s 6ms/step - loss: 0.3208 - accuracy: 0.9712 - val_loss: 0.1929 - val_accuracy: 0.9888\n",
            "Epoch 42/500\n",
            "1505/1505 [==============================] - 8s 5ms/step - loss: 0.2995 - accuracy: 0.9736 - val_loss: 0.1800 - val_accuracy: 0.9897\n",
            "Epoch 43/500\n",
            "1505/1505 [==============================] - 7s 5ms/step - loss: 0.2791 - accuracy: 0.9764 - val_loss: 0.1693 - val_accuracy: 0.9900\n",
            "Epoch 44/500\n",
            "1505/1505 [==============================] - 7s 5ms/step - loss: 0.2661 - accuracy: 0.9779 - val_loss: 0.1591 - val_accuracy: 0.9907\n",
            "Epoch 45/500\n",
            "1505/1505 [==============================] - 8s 6ms/step - loss: 0.2528 - accuracy: 0.9795 - val_loss: 0.1498 - val_accuracy: 0.9914\n",
            "Epoch 46/500\n",
            "1505/1505 [==============================] - 8s 5ms/step - loss: 0.2363 - accuracy: 0.9810 - val_loss: 0.1420 - val_accuracy: 0.9919\n",
            "Epoch 47/500\n",
            "1505/1505 [==============================] - 8s 5ms/step - loss: 0.2260 - accuracy: 0.9828 - val_loss: 0.1353 - val_accuracy: 0.9920\n",
            "Epoch 48/500\n",
            "1505/1505 [==============================] - 7s 5ms/step - loss: 0.2162 - accuracy: 0.9838 - val_loss: 0.1285 - val_accuracy: 0.9924\n",
            "Epoch 49/500\n",
            "1505/1505 [==============================] - 7s 5ms/step - loss: 0.2041 - accuracy: 0.9848 - val_loss: 0.1229 - val_accuracy: 0.9926\n",
            "Epoch 50/500\n",
            "1505/1505 [==============================] - 8s 5ms/step - loss: 0.1929 - accuracy: 0.9863 - val_loss: 0.1173 - val_accuracy: 0.9930\n",
            "Epoch 51/500\n",
            "1505/1505 [==============================] - 8s 5ms/step - loss: 0.1877 - accuracy: 0.9864 - val_loss: 0.1116 - val_accuracy: 0.9936\n",
            "Epoch 52/500\n",
            "1505/1505 [==============================] - 8s 6ms/step - loss: 0.1804 - accuracy: 0.9874 - val_loss: 0.1076 - val_accuracy: 0.9937\n",
            "Epoch 53/500\n",
            "1505/1505 [==============================] - 7s 5ms/step - loss: 0.1725 - accuracy: 0.9879 - val_loss: 0.1033 - val_accuracy: 0.9939\n",
            "Epoch 54/500\n",
            "1505/1505 [==============================] - 8s 5ms/step - loss: 0.1661 - accuracy: 0.9888 - val_loss: 0.0996 - val_accuracy: 0.9940\n",
            "Epoch 55/500\n",
            "1505/1505 [==============================] - 8s 5ms/step - loss: 0.1608 - accuracy: 0.9892 - val_loss: 0.0956 - val_accuracy: 0.9945\n",
            "Epoch 56/500\n",
            "1505/1505 [==============================] - 8s 5ms/step - loss: 0.1530 - accuracy: 0.9900 - val_loss: 0.0927 - val_accuracy: 0.9943\n",
            "Epoch 57/500\n",
            "1505/1505 [==============================] - 7s 5ms/step - loss: 0.1458 - accuracy: 0.9908 - val_loss: 0.0891 - val_accuracy: 0.9946\n",
            "Epoch 58/500\n",
            "1505/1505 [==============================] - 8s 5ms/step - loss: 0.1424 - accuracy: 0.9908 - val_loss: 0.0862 - val_accuracy: 0.9947\n",
            "Epoch 59/500\n",
            "1505/1505 [==============================] - 8s 5ms/step - loss: 0.1406 - accuracy: 0.9912 - val_loss: 0.0837 - val_accuracy: 0.9947\n",
            "Epoch 60/500\n",
            "1505/1505 [==============================] - 8s 5ms/step - loss: 0.1342 - accuracy: 0.9918 - val_loss: 0.0808 - val_accuracy: 0.9948\n",
            "Epoch 61/500\n",
            "1505/1505 [==============================] - 8s 6ms/step - loss: 0.1279 - accuracy: 0.9919 - val_loss: 0.0786 - val_accuracy: 0.9949\n",
            "Epoch 62/500\n",
            "1505/1505 [==============================] - 8s 5ms/step - loss: 0.1241 - accuracy: 0.9925 - val_loss: 0.0763 - val_accuracy: 0.9950\n",
            "Epoch 63/500\n",
            "1505/1505 [==============================] - 8s 5ms/step - loss: 0.1244 - accuracy: 0.9925 - val_loss: 0.0739 - val_accuracy: 0.9952\n",
            "Epoch 64/500\n",
            "1505/1505 [==============================] - 8s 5ms/step - loss: 0.1219 - accuracy: 0.9930 - val_loss: 0.0721 - val_accuracy: 0.9951\n",
            "Epoch 65/500\n",
            "1505/1505 [==============================] - 7s 5ms/step - loss: 0.1202 - accuracy: 0.9928 - val_loss: 0.0700 - val_accuracy: 0.9953\n",
            "Epoch 66/500\n",
            "1505/1505 [==============================] - 8s 6ms/step - loss: 0.1151 - accuracy: 0.9932 - val_loss: 0.0676 - val_accuracy: 0.9954\n",
            "Epoch 67/500\n",
            "1505/1505 [==============================] - 8s 5ms/step - loss: 0.1102 - accuracy: 0.9935 - val_loss: 0.0667 - val_accuracy: 0.9954\n",
            "Epoch 68/500\n",
            "1505/1505 [==============================] - 7s 5ms/step - loss: 0.1094 - accuracy: 0.9935 - val_loss: 0.0649 - val_accuracy: 0.9954\n",
            "Epoch 69/500\n",
            "1505/1505 [==============================] - 7s 5ms/step - loss: 0.1051 - accuracy: 0.9941 - val_loss: 0.0629 - val_accuracy: 0.9956\n",
            "Epoch 70/500\n",
            "1505/1505 [==============================] - 7s 5ms/step - loss: 0.1066 - accuracy: 0.9937 - val_loss: 0.0619 - val_accuracy: 0.9955\n",
            "Epoch 71/500\n",
            "1505/1505 [==============================] - 7s 5ms/step - loss: 0.1025 - accuracy: 0.9943 - val_loss: 0.0601 - val_accuracy: 0.9956\n",
            "Epoch 72/500\n",
            "1505/1505 [==============================] - 7s 5ms/step - loss: 0.0995 - accuracy: 0.9942 - val_loss: 0.0586 - val_accuracy: 0.9957\n",
            "Epoch 73/500\n",
            "1505/1505 [==============================] - 7s 5ms/step - loss: 0.1002 - accuracy: 0.9943 - val_loss: 0.0573 - val_accuracy: 0.9959\n",
            "Epoch 74/500\n",
            "1505/1505 [==============================] - 8s 5ms/step - loss: 0.0975 - accuracy: 0.9944 - val_loss: 0.0558 - val_accuracy: 0.9960\n",
            "Epoch 75/500\n",
            "1505/1505 [==============================] - 8s 5ms/step - loss: 0.0927 - accuracy: 0.9946 - val_loss: 0.0549 - val_accuracy: 0.9959\n",
            "Epoch 76/500\n",
            "1505/1505 [==============================] - 7s 5ms/step - loss: 0.0922 - accuracy: 0.9948 - val_loss: 0.0539 - val_accuracy: 0.9960\n",
            "Epoch 77/500\n",
            "1505/1505 [==============================] - 7s 5ms/step - loss: 0.0909 - accuracy: 0.9949 - val_loss: 0.0525 - val_accuracy: 0.9961\n",
            "Epoch 78/500\n",
            "1505/1505 [==============================] - 8s 5ms/step - loss: 0.0908 - accuracy: 0.9948 - val_loss: 0.0522 - val_accuracy: 0.9960\n",
            "Epoch 79/500\n",
            "1505/1505 [==============================] - 7s 5ms/step - loss: 0.0881 - accuracy: 0.9950 - val_loss: 0.0509 - val_accuracy: 0.9961\n",
            "Epoch 80/500\n",
            "1505/1505 [==============================] - 8s 5ms/step - loss: 0.0883 - accuracy: 0.9949 - val_loss: 0.0499 - val_accuracy: 0.9961\n",
            "Epoch 81/500\n",
            "1505/1505 [==============================] - 8s 6ms/step - loss: 0.0859 - accuracy: 0.9951 - val_loss: 0.0488 - val_accuracy: 0.9962\n",
            "Epoch 82/500\n",
            "1505/1505 [==============================] - 7s 5ms/step - loss: 0.0851 - accuracy: 0.9951 - val_loss: 0.0483 - val_accuracy: 0.9962\n",
            "Epoch 83/500\n",
            "1505/1505 [==============================] - 8s 5ms/step - loss: 0.0827 - accuracy: 0.9952 - val_loss: 0.0470 - val_accuracy: 0.9963\n",
            "Epoch 84/500\n",
            "1505/1505 [==============================] - 8s 5ms/step - loss: 0.0828 - accuracy: 0.9955 - val_loss: 0.0468 - val_accuracy: 0.9963\n",
            "Epoch 85/500\n",
            "1505/1505 [==============================] - 8s 5ms/step - loss: 0.0830 - accuracy: 0.9954 - val_loss: 0.0456 - val_accuracy: 0.9964\n",
            "Epoch 86/500\n",
            "1505/1505 [==============================] - 8s 5ms/step - loss: 0.0801 - accuracy: 0.9955 - val_loss: 0.0449 - val_accuracy: 0.9964\n",
            "Epoch 87/500\n",
            "1505/1505 [==============================] - 8s 5ms/step - loss: 0.0816 - accuracy: 0.9953 - val_loss: 0.0442 - val_accuracy: 0.9964\n",
            "Epoch 88/500\n",
            "1505/1505 [==============================] - 7s 5ms/step - loss: 0.0793 - accuracy: 0.9956 - val_loss: 0.0435 - val_accuracy: 0.9965\n",
            "Epoch 89/500\n",
            "1505/1505 [==============================] - 7s 5ms/step - loss: 0.0790 - accuracy: 0.9955 - val_loss: 0.0431 - val_accuracy: 0.9965\n",
            "Epoch 90/500\n",
            "1505/1505 [==============================] - 8s 5ms/step - loss: 0.0771 - accuracy: 0.9958 - val_loss: 0.0427 - val_accuracy: 0.9965\n",
            "Epoch 91/500\n",
            "1505/1505 [==============================] - 7s 5ms/step - loss: 0.0760 - accuracy: 0.9959 - val_loss: 0.0420 - val_accuracy: 0.9966\n",
            "Epoch 92/500\n",
            "1505/1505 [==============================] - 8s 5ms/step - loss: 0.0759 - accuracy: 0.9960 - val_loss: 0.0415 - val_accuracy: 0.9967\n",
            "Epoch 93/500\n",
            "1505/1505 [==============================] - 8s 5ms/step - loss: 0.0779 - accuracy: 0.9957 - val_loss: 0.0410 - val_accuracy: 0.9967\n",
            "Epoch 94/500\n",
            "1505/1505 [==============================] - 8s 5ms/step - loss: 0.0762 - accuracy: 0.9959 - val_loss: 0.0402 - val_accuracy: 0.9968\n",
            "Epoch 95/500\n",
            "1505/1505 [==============================] - 8s 5ms/step - loss: 0.0738 - accuracy: 0.9961 - val_loss: 0.0398 - val_accuracy: 0.9969\n",
            "Epoch 96/500\n",
            "1505/1505 [==============================] - 8s 6ms/step - loss: 0.0729 - accuracy: 0.9962 - val_loss: 0.0401 - val_accuracy: 0.9968\n",
            "Epoch 97/500\n",
            "1505/1505 [==============================] - 8s 5ms/step - loss: 0.0734 - accuracy: 0.9961 - val_loss: 0.0390 - val_accuracy: 0.9969\n",
            "Epoch 98/500\n",
            "1505/1505 [==============================] - 8s 6ms/step - loss: 0.0706 - accuracy: 0.9962 - val_loss: 0.0389 - val_accuracy: 0.9969\n",
            "Epoch 99/500\n",
            "1505/1505 [==============================] - 8s 5ms/step - loss: 0.0710 - accuracy: 0.9962 - val_loss: 0.0387 - val_accuracy: 0.9970\n",
            "Epoch 100/500\n",
            "1505/1505 [==============================] - 8s 5ms/step - loss: 0.0712 - accuracy: 0.9962 - val_loss: 0.0381 - val_accuracy: 0.9970\n",
            "Epoch 101/500\n",
            "1505/1505 [==============================] - 7s 5ms/step - loss: 0.0699 - accuracy: 0.9964 - val_loss: 0.0381 - val_accuracy: 0.9970\n",
            "Epoch 102/500\n",
            "1505/1505 [==============================] - 8s 5ms/step - loss: 0.0709 - accuracy: 0.9963 - val_loss: 0.0377 - val_accuracy: 0.9970\n",
            "Epoch 103/500\n",
            "1505/1505 [==============================] - 8s 5ms/step - loss: 0.0673 - accuracy: 0.9965 - val_loss: 0.0375 - val_accuracy: 0.9969\n",
            "Epoch 104/500\n",
            "1505/1505 [==============================] - 7s 5ms/step - loss: 0.0697 - accuracy: 0.9963 - val_loss: 0.0371 - val_accuracy: 0.9970\n",
            "Epoch 105/500\n",
            "1505/1505 [==============================] - 8s 5ms/step - loss: 0.0690 - accuracy: 0.9965 - val_loss: 0.0370 - val_accuracy: 0.9971\n",
            "Epoch 106/500\n",
            "1505/1505 [==============================] - 7s 5ms/step - loss: 0.0703 - accuracy: 0.9963 - val_loss: 0.0367 - val_accuracy: 0.9970\n",
            "Epoch 107/500\n",
            "1505/1505 [==============================] - 7s 4ms/step - loss: 0.0693 - accuracy: 0.9963 - val_loss: 0.0362 - val_accuracy: 0.9971\n",
            "Epoch 108/500\n",
            "1505/1505 [==============================] - 7s 5ms/step - loss: 0.0674 - accuracy: 0.9964 - val_loss: 0.0360 - val_accuracy: 0.9971\n",
            "Epoch 109/500\n",
            "1505/1505 [==============================] - 8s 5ms/step - loss: 0.0692 - accuracy: 0.9964 - val_loss: 0.0359 - val_accuracy: 0.9971\n",
            "Epoch 110/500\n",
            "1505/1505 [==============================] - 8s 5ms/step - loss: 0.0678 - accuracy: 0.9965 - val_loss: 0.0357 - val_accuracy: 0.9971\n",
            "Epoch 111/500\n",
            "1505/1505 [==============================] - 8s 5ms/step - loss: 0.0682 - accuracy: 0.9964 - val_loss: 0.0356 - val_accuracy: 0.9972\n",
            "Epoch 112/500\n",
            "1505/1505 [==============================] - 8s 5ms/step - loss: 0.0681 - accuracy: 0.9965 - val_loss: 0.0352 - val_accuracy: 0.9972\n",
            "Epoch 113/500\n",
            "1505/1505 [==============================] - 8s 5ms/step - loss: 0.0663 - accuracy: 0.9966 - val_loss: 0.0354 - val_accuracy: 0.9971\n",
            "Epoch 114/500\n",
            "1505/1505 [==============================] - 8s 5ms/step - loss: 0.0674 - accuracy: 0.9964 - val_loss: 0.0346 - val_accuracy: 0.9972\n",
            "Epoch 115/500\n",
            "1505/1505 [==============================] - 8s 5ms/step - loss: 0.0671 - accuracy: 0.9966 - val_loss: 0.0348 - val_accuracy: 0.9973\n",
            "Epoch 116/500\n",
            "1505/1505 [==============================] - 7s 5ms/step - loss: 0.0658 - accuracy: 0.9966 - val_loss: 0.0346 - val_accuracy: 0.9972\n",
            "Epoch 117/500\n",
            "1505/1505 [==============================] - 7s 5ms/step - loss: 0.0659 - accuracy: 0.9967 - val_loss: 0.0345 - val_accuracy: 0.9972\n",
            "Epoch 118/500\n",
            "1505/1505 [==============================] - 8s 5ms/step - loss: 0.0659 - accuracy: 0.9965 - val_loss: 0.0343 - val_accuracy: 0.9972\n",
            "Epoch 119/500\n",
            "1505/1505 [==============================] - 7s 5ms/step - loss: 0.0645 - accuracy: 0.9967 - val_loss: 0.0340 - val_accuracy: 0.9972\n",
            "Epoch 120/500\n",
            "1505/1505 [==============================] - 7s 5ms/step - loss: 0.0637 - accuracy: 0.9966 - val_loss: 0.0338 - val_accuracy: 0.9973\n",
            "Epoch 121/500\n",
            "1505/1505 [==============================] - 8s 5ms/step - loss: 0.0642 - accuracy: 0.9967 - val_loss: 0.0336 - val_accuracy: 0.9973\n",
            "Epoch 122/500\n",
            "1505/1505 [==============================] - 8s 5ms/step - loss: 0.0641 - accuracy: 0.9967 - val_loss: 0.0334 - val_accuracy: 0.9973\n",
            "Epoch 123/500\n",
            "1505/1505 [==============================] - 8s 5ms/step - loss: 0.0633 - accuracy: 0.9968 - val_loss: 0.0337 - val_accuracy: 0.9973\n",
            "Epoch 124/500\n",
            "1505/1505 [==============================] - 8s 5ms/step - loss: 0.0612 - accuracy: 0.9969 - val_loss: 0.0333 - val_accuracy: 0.9973\n",
            "Epoch 125/500\n",
            "1505/1505 [==============================] - 8s 6ms/step - loss: 0.0642 - accuracy: 0.9968 - val_loss: 0.0335 - val_accuracy: 0.9973\n",
            "Epoch 126/500\n",
            "1505/1505 [==============================] - 8s 5ms/step - loss: 0.0629 - accuracy: 0.9968 - val_loss: 0.0328 - val_accuracy: 0.9974\n",
            "Epoch 127/500\n",
            "1505/1505 [==============================] - 7s 5ms/step - loss: 0.0647 - accuracy: 0.9966 - val_loss: 0.0329 - val_accuracy: 0.9973\n",
            "Epoch 128/500\n",
            "1505/1505 [==============================] - 8s 5ms/step - loss: 0.0632 - accuracy: 0.9968 - val_loss: 0.0327 - val_accuracy: 0.9973\n",
            "Epoch 129/500\n",
            "1505/1505 [==============================] - 8s 6ms/step - loss: 0.0624 - accuracy: 0.9969 - val_loss: 0.0325 - val_accuracy: 0.9973\n",
            "Epoch 130/500\n",
            "1505/1505 [==============================] - 8s 5ms/step - loss: 0.0621 - accuracy: 0.9969 - val_loss: 0.0328 - val_accuracy: 0.9974\n",
            "Epoch 131/500\n",
            "1505/1505 [==============================] - 8s 5ms/step - loss: 0.0614 - accuracy: 0.9969 - val_loss: 0.0327 - val_accuracy: 0.9973\n",
            "Epoch 132/500\n",
            "1505/1505 [==============================] - 8s 5ms/step - loss: 0.0615 - accuracy: 0.9968 - val_loss: 0.0323 - val_accuracy: 0.9973\n",
            "Epoch 133/500\n",
            "1505/1505 [==============================] - 7s 5ms/step - loss: 0.0629 - accuracy: 0.9968 - val_loss: 0.0323 - val_accuracy: 0.9974\n",
            "Epoch 134/500\n",
            "1505/1505 [==============================] - 8s 5ms/step - loss: 0.0623 - accuracy: 0.9967 - val_loss: 0.0321 - val_accuracy: 0.9973\n",
            "Epoch 135/500\n",
            "1505/1505 [==============================] - 7s 5ms/step - loss: 0.0632 - accuracy: 0.9968 - val_loss: 0.0321 - val_accuracy: 0.9974\n",
            "Epoch 136/500\n",
            "1505/1505 [==============================] - 7s 5ms/step - loss: 0.0613 - accuracy: 0.9969 - val_loss: 0.0320 - val_accuracy: 0.9974\n",
            "Epoch 137/500\n",
            "1505/1505 [==============================] - 7s 5ms/step - loss: 0.0620 - accuracy: 0.9969 - val_loss: 0.0318 - val_accuracy: 0.9972\n",
            "Epoch 138/500\n",
            "1505/1505 [==============================] - 7s 5ms/step - loss: 0.0615 - accuracy: 0.9969 - val_loss: 0.0315 - val_accuracy: 0.9975\n",
            "Epoch 139/500\n",
            "1505/1505 [==============================] - 7s 5ms/step - loss: 0.0616 - accuracy: 0.9969 - val_loss: 0.0316 - val_accuracy: 0.9974\n",
            "Epoch 140/500\n",
            "1505/1505 [==============================] - 8s 5ms/step - loss: 0.0609 - accuracy: 0.9970 - val_loss: 0.0315 - val_accuracy: 0.9974\n",
            "Epoch 141/500\n",
            "1505/1505 [==============================] - 8s 5ms/step - loss: 0.0616 - accuracy: 0.9969 - val_loss: 0.0311 - val_accuracy: 0.9974\n",
            "Epoch 142/500\n",
            "1505/1505 [==============================] - 7s 5ms/step - loss: 0.0605 - accuracy: 0.9969 - val_loss: 0.0313 - val_accuracy: 0.9975\n",
            "Epoch 143/500\n",
            "1505/1505 [==============================] - 8s 5ms/step - loss: 0.0630 - accuracy: 0.9968 - val_loss: 0.0312 - val_accuracy: 0.9974\n",
            "Epoch 144/500\n",
            "1505/1505 [==============================] - 7s 5ms/step - loss: 0.0598 - accuracy: 0.9970 - val_loss: 0.0311 - val_accuracy: 0.9975\n",
            "Epoch 145/500\n",
            "1505/1505 [==============================] - 8s 5ms/step - loss: 0.0613 - accuracy: 0.9968 - val_loss: 0.0309 - val_accuracy: 0.9974\n",
            "Epoch 146/500\n",
            "1505/1505 [==============================] - 7s 5ms/step - loss: 0.0621 - accuracy: 0.9967 - val_loss: 0.0309 - val_accuracy: 0.9974\n",
            "Epoch 147/500\n",
            "1505/1505 [==============================] - 8s 5ms/step - loss: 0.0605 - accuracy: 0.9968 - val_loss: 0.0306 - val_accuracy: 0.9975\n",
            "Epoch 148/500\n",
            "1505/1505 [==============================] - 8s 5ms/step - loss: 0.0599 - accuracy: 0.9969 - val_loss: 0.0307 - val_accuracy: 0.9975\n",
            "Epoch 149/500\n",
            "1505/1505 [==============================] - 8s 5ms/step - loss: 0.0590 - accuracy: 0.9970 - val_loss: 0.0306 - val_accuracy: 0.9974\n",
            "Epoch 150/500\n",
            "1505/1505 [==============================] - 8s 5ms/step - loss: 0.0618 - accuracy: 0.9969 - val_loss: 0.0306 - val_accuracy: 0.9975\n",
            "Epoch 151/500\n",
            "1505/1505 [==============================] - 8s 5ms/step - loss: 0.0597 - accuracy: 0.9969 - val_loss: 0.0307 - val_accuracy: 0.9975\n",
            "Epoch 152/500\n",
            "1505/1505 [==============================] - 8s 5ms/step - loss: 0.0596 - accuracy: 0.9970 - val_loss: 0.0304 - val_accuracy: 0.9975\n",
            "Epoch 153/500\n",
            "1505/1505 [==============================] - 8s 5ms/step - loss: 0.0599 - accuracy: 0.9970 - val_loss: 0.0304 - val_accuracy: 0.9975\n",
            "Epoch 154/500\n",
            "1505/1505 [==============================] - 7s 5ms/step - loss: 0.0592 - accuracy: 0.9970 - val_loss: 0.0301 - val_accuracy: 0.9975\n",
            "Epoch 155/500\n",
            "1505/1505 [==============================] - 8s 6ms/step - loss: 0.0591 - accuracy: 0.9970 - val_loss: 0.0302 - val_accuracy: 0.9975\n",
            "Epoch 156/500\n",
            "1505/1505 [==============================] - 8s 5ms/step - loss: 0.0587 - accuracy: 0.9969 - val_loss: 0.0305 - val_accuracy: 0.9975\n",
            "Epoch 157/500\n",
            "1505/1505 [==============================] - 8s 5ms/step - loss: 0.0589 - accuracy: 0.9969 - val_loss: 0.0299 - val_accuracy: 0.9975\n",
            "Epoch 158/500\n",
            "1505/1505 [==============================] - 8s 5ms/step - loss: 0.0584 - accuracy: 0.9971 - val_loss: 0.0301 - val_accuracy: 0.9975\n",
            "Epoch 159/500\n",
            "1505/1505 [==============================] - 8s 5ms/step - loss: 0.0594 - accuracy: 0.9969 - val_loss: 0.0301 - val_accuracy: 0.9975\n",
            "Epoch 160/500\n",
            "1505/1505 [==============================] - 8s 5ms/step - loss: 0.0581 - accuracy: 0.9970 - val_loss: 0.0299 - val_accuracy: 0.9974\n",
            "Epoch 161/500\n",
            "1505/1505 [==============================] - 8s 5ms/step - loss: 0.0592 - accuracy: 0.9970 - val_loss: 0.0300 - val_accuracy: 0.9975\n",
            "Epoch 162/500\n",
            "1505/1505 [==============================] - 8s 5ms/step - loss: 0.0577 - accuracy: 0.9970 - val_loss: 0.0298 - val_accuracy: 0.9975\n",
            "Epoch 163/500\n",
            "1505/1505 [==============================] - 7s 5ms/step - loss: 0.0600 - accuracy: 0.9969 - val_loss: 0.0298 - val_accuracy: 0.9974\n",
            "Epoch 164/500\n",
            "1505/1505 [==============================] - 8s 5ms/step - loss: 0.0591 - accuracy: 0.9970 - val_loss: 0.0299 - val_accuracy: 0.9975\n",
            "Epoch 165/500\n",
            "1505/1505 [==============================] - 7s 5ms/step - loss: 0.0572 - accuracy: 0.9971 - val_loss: 0.0299 - val_accuracy: 0.9975\n",
            "Epoch 166/500\n",
            "1505/1505 [==============================] - 8s 5ms/step - loss: 0.0581 - accuracy: 0.9969 - val_loss: 0.0299 - val_accuracy: 0.9974\n",
            "Epoch 167/500\n",
            "1505/1505 [==============================] - 7s 5ms/step - loss: 0.0567 - accuracy: 0.9971 - val_loss: 0.0296 - val_accuracy: 0.9975\n",
            "Epoch 168/500\n",
            "1505/1505 [==============================] - 8s 5ms/step - loss: 0.0587 - accuracy: 0.9970 - val_loss: 0.0300 - val_accuracy: 0.9974\n",
            "Epoch 169/500\n",
            "1505/1505 [==============================] - 7s 5ms/step - loss: 0.0584 - accuracy: 0.9970 - val_loss: 0.0294 - val_accuracy: 0.9975\n",
            "Epoch 170/500\n",
            "1505/1505 [==============================] - 8s 6ms/step - loss: 0.0582 - accuracy: 0.9971 - val_loss: 0.0293 - val_accuracy: 0.9975\n",
            "Epoch 171/500\n",
            "1505/1505 [==============================] - 8s 6ms/step - loss: 0.0576 - accuracy: 0.9969 - val_loss: 0.0294 - val_accuracy: 0.9976\n",
            "Epoch 172/500\n",
            "1505/1505 [==============================] - 8s 5ms/step - loss: 0.0598 - accuracy: 0.9969 - val_loss: 0.0294 - val_accuracy: 0.9975\n",
            "Epoch 173/500\n",
            "1505/1505 [==============================] - 7s 5ms/step - loss: 0.0575 - accuracy: 0.9970 - val_loss: 0.0295 - val_accuracy: 0.9974\n",
            "Epoch 174/500\n",
            "1505/1505 [==============================] - 8s 5ms/step - loss: 0.0573 - accuracy: 0.9970 - val_loss: 0.0293 - val_accuracy: 0.9976\n",
            "Epoch 175/500\n",
            "1505/1505 [==============================] - 8s 5ms/step - loss: 0.0579 - accuracy: 0.9970 - val_loss: 0.0289 - val_accuracy: 0.9974\n",
            "Epoch 176/500\n",
            "1505/1505 [==============================] - 7s 5ms/step - loss: 0.0576 - accuracy: 0.9970 - val_loss: 0.0293 - val_accuracy: 0.9976\n",
            "Epoch 177/500\n",
            "1505/1505 [==============================] - 8s 5ms/step - loss: 0.0559 - accuracy: 0.9971 - val_loss: 0.0292 - val_accuracy: 0.9975\n",
            "Epoch 178/500\n",
            "1505/1505 [==============================] - 8s 5ms/step - loss: 0.0579 - accuracy: 0.9970 - val_loss: 0.0293 - val_accuracy: 0.9975\n",
            "Epoch 179/500\n",
            "1505/1505 [==============================] - 8s 5ms/step - loss: 0.0562 - accuracy: 0.9971 - val_loss: 0.0290 - val_accuracy: 0.9976\n",
            "Epoch 180/500\n",
            "1505/1505 [==============================] - 8s 6ms/step - loss: 0.0573 - accuracy: 0.9971 - val_loss: 0.0285 - val_accuracy: 0.9975\n",
            "Epoch 181/500\n",
            "1505/1505 [==============================] - 7s 5ms/step - loss: 0.0553 - accuracy: 0.9972 - val_loss: 0.0287 - val_accuracy: 0.9975\n",
            "Epoch 182/500\n",
            "1505/1505 [==============================] - 7s 5ms/step - loss: 0.0572 - accuracy: 0.9971 - val_loss: 0.0288 - val_accuracy: 0.9976\n",
            "Epoch 183/500\n",
            "1505/1505 [==============================] - 8s 5ms/step - loss: 0.0571 - accuracy: 0.9971 - val_loss: 0.0288 - val_accuracy: 0.9976\n",
            "Epoch 184/500\n",
            "1505/1505 [==============================] - 7s 5ms/step - loss: 0.0569 - accuracy: 0.9969 - val_loss: 0.0287 - val_accuracy: 0.9976\n",
            "Epoch 185/500\n",
            "1505/1505 [==============================] - 8s 5ms/step - loss: 0.0579 - accuracy: 0.9970 - val_loss: 0.0286 - val_accuracy: 0.9975\n",
            "Epoch 186/500\n",
            "1505/1505 [==============================] - 8s 5ms/step - loss: 0.0563 - accuracy: 0.9971 - val_loss: 0.0283 - val_accuracy: 0.9976\n",
            "Epoch 187/500\n",
            "1505/1505 [==============================] - 8s 5ms/step - loss: 0.0555 - accuracy: 0.9970 - val_loss: 0.0285 - val_accuracy: 0.9976\n",
            "Epoch 188/500\n",
            "1505/1505 [==============================] - 7s 5ms/step - loss: 0.0562 - accuracy: 0.9971 - val_loss: 0.0286 - val_accuracy: 0.9975\n",
            "Epoch 189/500\n",
            "1505/1505 [==============================] - 8s 6ms/step - loss: 0.0569 - accuracy: 0.9969 - val_loss: 0.0284 - val_accuracy: 0.9975\n",
            "Epoch 190/500\n",
            "1505/1505 [==============================] - 8s 5ms/step - loss: 0.0563 - accuracy: 0.9971 - val_loss: 0.0285 - val_accuracy: 0.9976\n",
            "Epoch 191/500\n",
            "1505/1505 [==============================] - 7s 5ms/step - loss: 0.0568 - accuracy: 0.9970 - val_loss: 0.0286 - val_accuracy: 0.9975\n",
            "Epoch 192/500\n",
            "1505/1505 [==============================] - 8s 5ms/step - loss: 0.0571 - accuracy: 0.9971 - val_loss: 0.0284 - val_accuracy: 0.9976\n",
            "Epoch 193/500\n",
            "1505/1505 [==============================] - 8s 5ms/step - loss: 0.0585 - accuracy: 0.9970 - val_loss: 0.0282 - val_accuracy: 0.9976\n",
            "Epoch 194/500\n",
            "1505/1505 [==============================] - 8s 5ms/step - loss: 0.0568 - accuracy: 0.9969 - val_loss: 0.0281 - val_accuracy: 0.9976\n",
            "Epoch 195/500\n",
            "1505/1505 [==============================] - 8s 5ms/step - loss: 0.0554 - accuracy: 0.9971 - val_loss: 0.0279 - val_accuracy: 0.9976\n",
            "Epoch 196/500\n",
            "1505/1505 [==============================] - 8s 5ms/step - loss: 0.0562 - accuracy: 0.9970 - val_loss: 0.0281 - val_accuracy: 0.9976\n",
            "Epoch 197/500\n",
            "1505/1505 [==============================] - 7s 5ms/step - loss: 0.0561 - accuracy: 0.9971 - val_loss: 0.0281 - val_accuracy: 0.9976\n",
            "Epoch 198/500\n",
            "1505/1505 [==============================] - 8s 5ms/step - loss: 0.0548 - accuracy: 0.9971 - val_loss: 0.0279 - val_accuracy: 0.9976\n",
            "Epoch 199/500\n",
            "1505/1505 [==============================] - 7s 5ms/step - loss: 0.0564 - accuracy: 0.9970 - val_loss: 0.0281 - val_accuracy: 0.9975\n",
            "Epoch 200/500\n",
            "1505/1505 [==============================] - 7s 5ms/step - loss: 0.0559 - accuracy: 0.9970 - val_loss: 0.0281 - val_accuracy: 0.9975\n",
            "Epoch 201/500\n",
            "1505/1505 [==============================] - 7s 5ms/step - loss: 0.0552 - accuracy: 0.9972 - val_loss: 0.0281 - val_accuracy: 0.9976\n",
            "Epoch 202/500\n",
            "1505/1505 [==============================] - 8s 5ms/step - loss: 0.0555 - accuracy: 0.9969 - val_loss: 0.0281 - val_accuracy: 0.9975\n",
            "Epoch 203/500\n",
            "1505/1505 [==============================] - 8s 5ms/step - loss: 0.0564 - accuracy: 0.9971 - val_loss: 0.0280 - val_accuracy: 0.9975\n",
            "Epoch 204/500\n",
            "1505/1505 [==============================] - 7s 5ms/step - loss: 0.0564 - accuracy: 0.9970 - val_loss: 0.0278 - val_accuracy: 0.9975\n",
            "Epoch 205/500\n",
            "1505/1505 [==============================] - 8s 6ms/step - loss: 0.0551 - accuracy: 0.9971 - val_loss: 0.0280 - val_accuracy: 0.9975\n",
            "Epoch 206/500\n",
            "1505/1505 [==============================] - 8s 5ms/step - loss: 0.0540 - accuracy: 0.9972 - val_loss: 0.0279 - val_accuracy: 0.9975\n",
            "Epoch 207/500\n",
            "1505/1505 [==============================] - 7s 5ms/step - loss: 0.0559 - accuracy: 0.9970 - val_loss: 0.0278 - val_accuracy: 0.9977\n",
            "Epoch 208/500\n",
            "1505/1505 [==============================] - 8s 5ms/step - loss: 0.0560 - accuracy: 0.9972 - val_loss: 0.0279 - val_accuracy: 0.9975\n",
            "Epoch 209/500\n",
            "1505/1505 [==============================] - 7s 5ms/step - loss: 0.0571 - accuracy: 0.9970 - val_loss: 0.0276 - val_accuracy: 0.9976\n",
            "Epoch 210/500\n",
            "1505/1505 [==============================] - 8s 5ms/step - loss: 0.0544 - accuracy: 0.9970 - val_loss: 0.0280 - val_accuracy: 0.9976\n",
            "Epoch 211/500\n",
            "1505/1505 [==============================] - 7s 5ms/step - loss: 0.0556 - accuracy: 0.9970 - val_loss: 0.0277 - val_accuracy: 0.9975\n",
            "Epoch 212/500\n",
            "1505/1505 [==============================] - 8s 5ms/step - loss: 0.0545 - accuracy: 0.9970 - val_loss: 0.0281 - val_accuracy: 0.9976\n",
            "Epoch 213/500\n",
            "1505/1505 [==============================] - 7s 5ms/step - loss: 0.0552 - accuracy: 0.9971 - val_loss: 0.0276 - val_accuracy: 0.9975\n",
            "Epoch 214/500\n",
            "1505/1505 [==============================] - 7s 5ms/step - loss: 0.0541 - accuracy: 0.9971 - val_loss: 0.0277 - val_accuracy: 0.9976\n",
            "Epoch 215/500\n",
            "1505/1505 [==============================] - 8s 5ms/step - loss: 0.0564 - accuracy: 0.9971 - val_loss: 0.0278 - val_accuracy: 0.9975\n",
            "Epoch 216/500\n",
            "1505/1505 [==============================] - 8s 5ms/step - loss: 0.0547 - accuracy: 0.9971 - val_loss: 0.0275 - val_accuracy: 0.9976\n",
            "Epoch 217/500\n",
            "1505/1505 [==============================] - 8s 5ms/step - loss: 0.0556 - accuracy: 0.9971 - val_loss: 0.0275 - val_accuracy: 0.9975\n",
            "Epoch 218/500\n",
            "1505/1505 [==============================] - 7s 5ms/step - loss: 0.0567 - accuracy: 0.9969 - val_loss: 0.0276 - val_accuracy: 0.9975\n",
            "Epoch 219/500\n",
            "1505/1505 [==============================] - 8s 5ms/step - loss: 0.0543 - accuracy: 0.9971 - val_loss: 0.0277 - val_accuracy: 0.9976\n",
            "Epoch 220/500\n",
            "1505/1505 [==============================] - 8s 5ms/step - loss: 0.0561 - accuracy: 0.9971 - val_loss: 0.0274 - val_accuracy: 0.9976\n",
            "Epoch 221/500\n",
            "1505/1505 [==============================] - 8s 6ms/step - loss: 0.0544 - accuracy: 0.9971 - val_loss: 0.0273 - val_accuracy: 0.9976\n",
            "Epoch 222/500\n",
            "1505/1505 [==============================] - 7s 5ms/step - loss: 0.0545 - accuracy: 0.9971 - val_loss: 0.0275 - val_accuracy: 0.9976\n",
            "Epoch 223/500\n",
            "1505/1505 [==============================] - 8s 5ms/step - loss: 0.0563 - accuracy: 0.9969 - val_loss: 0.0276 - val_accuracy: 0.9975\n",
            "Epoch 224/500\n",
            "1505/1505 [==============================] - 8s 6ms/step - loss: 0.0536 - accuracy: 0.9971 - val_loss: 0.0276 - val_accuracy: 0.9976\n",
            "Epoch 225/500\n",
            "1505/1505 [==============================] - 8s 6ms/step - loss: 0.0545 - accuracy: 0.9970 - val_loss: 0.0276 - val_accuracy: 0.9976\n",
            "Epoch 226/500\n",
            "1505/1505 [==============================] - 7s 5ms/step - loss: 0.0533 - accuracy: 0.9972 - val_loss: 0.0274 - val_accuracy: 0.9976\n",
            "Epoch 227/500\n",
            "1505/1505 [==============================] - 7s 5ms/step - loss: 0.0563 - accuracy: 0.9969 - val_loss: 0.0272 - val_accuracy: 0.9976\n",
            "Epoch 228/500\n",
            "1505/1505 [==============================] - 8s 5ms/step - loss: 0.0553 - accuracy: 0.9970 - val_loss: 0.0269 - val_accuracy: 0.9977\n",
            "Epoch 229/500\n",
            "1505/1505 [==============================] - 8s 5ms/step - loss: 0.0557 - accuracy: 0.9970 - val_loss: 0.0273 - val_accuracy: 0.9976\n",
            "Epoch 230/500\n",
            "1505/1505 [==============================] - 9s 6ms/step - loss: 0.0556 - accuracy: 0.9971 - val_loss: 0.0275 - val_accuracy: 0.9976\n",
            "Epoch 231/500\n",
            "1505/1505 [==============================] - 8s 5ms/step - loss: 0.0533 - accuracy: 0.9970 - val_loss: 0.0272 - val_accuracy: 0.9976\n",
            "Epoch 232/500\n",
            "1505/1505 [==============================] - 9s 6ms/step - loss: 0.0551 - accuracy: 0.9970 - val_loss: 0.0271 - val_accuracy: 0.9976\n",
            "Epoch 233/500\n",
            "1505/1505 [==============================] - 8s 5ms/step - loss: 0.0532 - accuracy: 0.9972 - val_loss: 0.0276 - val_accuracy: 0.9977\n",
            "Epoch 234/500\n",
            "1505/1505 [==============================] - 8s 5ms/step - loss: 0.0539 - accuracy: 0.9972 - val_loss: 0.0274 - val_accuracy: 0.9976\n",
            "Epoch 235/500\n",
            "1505/1505 [==============================] - 8s 5ms/step - loss: 0.0558 - accuracy: 0.9971 - val_loss: 0.0269 - val_accuracy: 0.9976\n",
            "Epoch 236/500\n",
            "1505/1505 [==============================] - 9s 6ms/step - loss: 0.0549 - accuracy: 0.9971 - val_loss: 0.0272 - val_accuracy: 0.9976\n",
            "Epoch 237/500\n",
            "1505/1505 [==============================] - 8s 5ms/step - loss: 0.0548 - accuracy: 0.9971 - val_loss: 0.0278 - val_accuracy: 0.9976\n",
            "Epoch 238/500\n",
            "1505/1505 [==============================] - 8s 5ms/step - loss: 0.0551 - accuracy: 0.9970 - val_loss: 0.0271 - val_accuracy: 0.9976\n",
            "Epoch 239/500\n",
            "1505/1505 [==============================] - 8s 5ms/step - loss: 0.0551 - accuracy: 0.9969 - val_loss: 0.0270 - val_accuracy: 0.9976\n",
            "Epoch 240/500\n",
            "1505/1505 [==============================] - 8s 5ms/step - loss: 0.0539 - accuracy: 0.9971 - val_loss: 0.0270 - val_accuracy: 0.9976\n",
            "Epoch 241/500\n",
            "1505/1505 [==============================] - 8s 5ms/step - loss: 0.0545 - accuracy: 0.9972 - val_loss: 0.0276 - val_accuracy: 0.9975\n",
            "Epoch 242/500\n",
            "1505/1505 [==============================] - 8s 5ms/step - loss: 0.0515 - accuracy: 0.9972 - val_loss: 0.0271 - val_accuracy: 0.9975\n",
            "Epoch 243/500\n",
            "1505/1505 [==============================] - 7s 5ms/step - loss: 0.0541 - accuracy: 0.9972 - val_loss: 0.0271 - val_accuracy: 0.9977\n",
            "Epoch 244/500\n",
            "1505/1505 [==============================] - 8s 5ms/step - loss: 0.0544 - accuracy: 0.9971 - val_loss: 0.0274 - val_accuracy: 0.9976\n",
            "Epoch 245/500\n",
            "1505/1505 [==============================] - 8s 5ms/step - loss: 0.0525 - accuracy: 0.9972 - val_loss: 0.0270 - val_accuracy: 0.9976\n",
            "Epoch 246/500\n",
            "1505/1505 [==============================] - 7s 5ms/step - loss: 0.0557 - accuracy: 0.9970 - val_loss: 0.0272 - val_accuracy: 0.9976\n",
            "Epoch 247/500\n",
            "1505/1505 [==============================] - 8s 5ms/step - loss: 0.0543 - accuracy: 0.9971 - val_loss: 0.0269 - val_accuracy: 0.9975\n",
            "Epoch 248/500\n",
            "1505/1505 [==============================] - 8s 5ms/step - loss: 0.0535 - accuracy: 0.9971 - val_loss: 0.0272 - val_accuracy: 0.9976\n",
            "Epoch 249/500\n",
            "1505/1505 [==============================] - 8s 5ms/step - loss: 0.0540 - accuracy: 0.9971 - val_loss: 0.0271 - val_accuracy: 0.9976\n",
            "Epoch 250/500\n",
            "1505/1505 [==============================] - 8s 5ms/step - loss: 0.0542 - accuracy: 0.9970 - val_loss: 0.0268 - val_accuracy: 0.9976\n",
            "Epoch 251/500\n",
            "1505/1505 [==============================] - 8s 5ms/step - loss: 0.0566 - accuracy: 0.9969 - val_loss: 0.0270 - val_accuracy: 0.9976\n",
            "Epoch 252/500\n",
            "1505/1505 [==============================] - 9s 6ms/step - loss: 0.0550 - accuracy: 0.9969 - val_loss: 0.0271 - val_accuracy: 0.9975\n",
            "Epoch 253/500\n",
            "1505/1505 [==============================] - 9s 6ms/step - loss: 0.0529 - accuracy: 0.9971 - val_loss: 0.0271 - val_accuracy: 0.9975\n",
            "Epoch 254/500\n",
            "1505/1505 [==============================] - 7s 5ms/step - loss: 0.0542 - accuracy: 0.9970 - val_loss: 0.0272 - val_accuracy: 0.9976\n",
            "Epoch 255/500\n",
            "1505/1505 [==============================] - 8s 5ms/step - loss: 0.0553 - accuracy: 0.9969 - val_loss: 0.0269 - val_accuracy: 0.9976\n",
            "Epoch 256/500\n",
            "1505/1505 [==============================] - 8s 5ms/step - loss: 0.0528 - accuracy: 0.9971 - val_loss: 0.0275 - val_accuracy: 0.9976\n",
            "Epoch 257/500\n",
            "1505/1505 [==============================] - 8s 5ms/step - loss: 0.0549 - accuracy: 0.9970 - val_loss: 0.0269 - val_accuracy: 0.9976\n",
            "Epoch 258/500\n",
            "1505/1505 [==============================] - 8s 5ms/step - loss: 0.0542 - accuracy: 0.9970 - val_loss: 0.0269 - val_accuracy: 0.9976\n",
            "Epoch 259/500\n",
            "1505/1505 [==============================] - 8s 6ms/step - loss: 0.0535 - accuracy: 0.9972 - val_loss: 0.0271 - val_accuracy: 0.9976\n",
            "Epoch 260/500\n",
            "1505/1505 [==============================] - 8s 5ms/step - loss: 0.0535 - accuracy: 0.9971 - val_loss: 0.0269 - val_accuracy: 0.9975\n",
            "Epoch 261/500\n",
            "1505/1505 [==============================] - 9s 6ms/step - loss: 0.0551 - accuracy: 0.9970 - val_loss: 0.0270 - val_accuracy: 0.9976\n",
            "Epoch 262/500\n",
            "1505/1505 [==============================] - 9s 6ms/step - loss: 0.0531 - accuracy: 0.9972 - val_loss: 0.0270 - val_accuracy: 0.9976\n",
            "Epoch 263/500\n",
            "1505/1505 [==============================] - 8s 6ms/step - loss: 0.0537 - accuracy: 0.9971 - val_loss: 0.0272 - val_accuracy: 0.9976\n",
            "Epoch 264/500\n",
            "1505/1505 [==============================] - 8s 5ms/step - loss: 0.0537 - accuracy: 0.9970 - val_loss: 0.0267 - val_accuracy: 0.9975\n",
            "Epoch 265/500\n",
            "1505/1505 [==============================] - 9s 6ms/step - loss: 0.0531 - accuracy: 0.9971 - val_loss: 0.0269 - val_accuracy: 0.9976\n",
            "Epoch 266/500\n",
            "1505/1505 [==============================] - 8s 5ms/step - loss: 0.0542 - accuracy: 0.9971 - val_loss: 0.0267 - val_accuracy: 0.9976\n",
            "Epoch 267/500\n",
            "1505/1505 [==============================] - 8s 5ms/step - loss: 0.0524 - accuracy: 0.9972 - val_loss: 0.0274 - val_accuracy: 0.9976\n",
            "Epoch 268/500\n",
            "1505/1505 [==============================] - 8s 5ms/step - loss: 0.0530 - accuracy: 0.9971 - val_loss: 0.0269 - val_accuracy: 0.9977\n",
            "Epoch 269/500\n",
            "1505/1505 [==============================] - 8s 5ms/step - loss: 0.0537 - accuracy: 0.9971 - val_loss: 0.0270 - val_accuracy: 0.9976\n",
            "Epoch 270/500\n",
            "1505/1505 [==============================] - 8s 6ms/step - loss: 0.0521 - accuracy: 0.9972 - val_loss: 0.0271 - val_accuracy: 0.9975\n",
            "Epoch 271/500\n",
            "1505/1505 [==============================] - 8s 5ms/step - loss: 0.0552 - accuracy: 0.9969 - val_loss: 0.0267 - val_accuracy: 0.9976\n",
            "Epoch 272/500\n",
            "1505/1505 [==============================] - 9s 6ms/step - loss: 0.0531 - accuracy: 0.9970 - val_loss: 0.0273 - val_accuracy: 0.9975\n",
            "Epoch 273/500\n",
            "1505/1505 [==============================] - 7s 5ms/step - loss: 0.0527 - accuracy: 0.9971 - val_loss: 0.0266 - val_accuracy: 0.9976\n",
            "Epoch 274/500\n",
            "1505/1505 [==============================] - 8s 6ms/step - loss: 0.0550 - accuracy: 0.9969 - val_loss: 0.0271 - val_accuracy: 0.9976\n",
            "Epoch 275/500\n",
            "1505/1505 [==============================] - 7s 5ms/step - loss: 0.0548 - accuracy: 0.9970 - val_loss: 0.0272 - val_accuracy: 0.9976\n",
            "Epoch 276/500\n",
            "1505/1505 [==============================] - 7s 5ms/step - loss: 0.0548 - accuracy: 0.9969 - val_loss: 0.0266 - val_accuracy: 0.9976\n",
            "Epoch 277/500\n",
            "1505/1505 [==============================] - 8s 5ms/step - loss: 0.0541 - accuracy: 0.9971 - val_loss: 0.0268 - val_accuracy: 0.9976\n",
            "Epoch 278/500\n",
            "1505/1505 [==============================] - 8s 6ms/step - loss: 0.0540 - accuracy: 0.9971 - val_loss: 0.0269 - val_accuracy: 0.9976\n",
            "Epoch 279/500\n",
            "1505/1505 [==============================] - 8s 6ms/step - loss: 0.0545 - accuracy: 0.9971 - val_loss: 0.0267 - val_accuracy: 0.9976\n",
            "Epoch 280/500\n",
            "1505/1505 [==============================] - 8s 5ms/step - loss: 0.0543 - accuracy: 0.9970 - val_loss: 0.0269 - val_accuracy: 0.9975\n",
            "Epoch 281/500\n",
            "1505/1505 [==============================] - 9s 6ms/step - loss: 0.0526 - accuracy: 0.9971 - val_loss: 0.0268 - val_accuracy: 0.9975\n",
            "Epoch 282/500\n",
            "1505/1505 [==============================] - 9s 6ms/step - loss: 0.0539 - accuracy: 0.9971 - val_loss: 0.0266 - val_accuracy: 0.9976\n",
            "Epoch 283/500\n",
            "1505/1505 [==============================] - 8s 5ms/step - loss: 0.0521 - accuracy: 0.9971 - val_loss: 0.0271 - val_accuracy: 0.9975\n",
            "Epoch 284/500\n",
            "1505/1505 [==============================] - 8s 6ms/step - loss: 0.0531 - accuracy: 0.9971 - val_loss: 0.0268 - val_accuracy: 0.9976\n",
            "Epoch 285/500\n",
            "1505/1505 [==============================] - 7s 5ms/step - loss: 0.0550 - accuracy: 0.9970 - val_loss: 0.0264 - val_accuracy: 0.9977\n",
            "Epoch 286/500\n",
            "1505/1505 [==============================] - 8s 5ms/step - loss: 0.0532 - accuracy: 0.9971 - val_loss: 0.0266 - val_accuracy: 0.9976\n",
            "Epoch 287/500\n",
            "1505/1505 [==============================] - 8s 6ms/step - loss: 0.0537 - accuracy: 0.9970 - val_loss: 0.0265 - val_accuracy: 0.9976\n",
            "Epoch 288/500\n",
            "1505/1505 [==============================] - 8s 6ms/step - loss: 0.0529 - accuracy: 0.9972 - val_loss: 0.0264 - val_accuracy: 0.9977\n",
            "Epoch 289/500\n",
            "1505/1505 [==============================] - 8s 5ms/step - loss: 0.0552 - accuracy: 0.9970 - val_loss: 0.0266 - val_accuracy: 0.9976\n",
            "Epoch 290/500\n",
            "1505/1505 [==============================] - 7s 5ms/step - loss: 0.0534 - accuracy: 0.9971 - val_loss: 0.0266 - val_accuracy: 0.9976\n",
            "Epoch 291/500\n",
            "1505/1505 [==============================] - 7s 5ms/step - loss: 0.0540 - accuracy: 0.9971 - val_loss: 0.0270 - val_accuracy: 0.9977\n",
            "Epoch 292/500\n",
            "1505/1505 [==============================] - 8s 5ms/step - loss: 0.0530 - accuracy: 0.9971 - val_loss: 0.0266 - val_accuracy: 0.9976\n",
            "Epoch 293/500\n",
            "1505/1505 [==============================] - 8s 5ms/step - loss: 0.0545 - accuracy: 0.9970 - val_loss: 0.0267 - val_accuracy: 0.9976\n",
            "Epoch 294/500\n",
            "1505/1505 [==============================] - 8s 5ms/step - loss: 0.0531 - accuracy: 0.9970 - val_loss: 0.0273 - val_accuracy: 0.9975\n",
            "Epoch 295/500\n",
            "1505/1505 [==============================] - 9s 6ms/step - loss: 0.0531 - accuracy: 0.9971 - val_loss: 0.0265 - val_accuracy: 0.9976\n",
            "Epoch 296/500\n",
            "1505/1505 [==============================] - 8s 5ms/step - loss: 0.0526 - accuracy: 0.9971 - val_loss: 0.0269 - val_accuracy: 0.9976\n",
            "Epoch 297/500\n",
            "1505/1505 [==============================] - 8s 5ms/step - loss: 0.0513 - accuracy: 0.9973 - val_loss: 0.0269 - val_accuracy: 0.9976\n",
            "Epoch 298/500\n",
            "1505/1505 [==============================] - 8s 5ms/step - loss: 0.0541 - accuracy: 0.9971 - val_loss: 0.0269 - val_accuracy: 0.9976\n",
            "Epoch 299/500\n",
            "1505/1505 [==============================] - 9s 6ms/step - loss: 0.0534 - accuracy: 0.9972 - val_loss: 0.0268 - val_accuracy: 0.9976\n",
            "Epoch 300/500\n",
            "1505/1505 [==============================] - 8s 5ms/step - loss: 0.0533 - accuracy: 0.9970 - val_loss: 0.0267 - val_accuracy: 0.9976\n",
            "Epoch 301/500\n",
            "1505/1505 [==============================] - 9s 6ms/step - loss: 0.0536 - accuracy: 0.9971 - val_loss: 0.0266 - val_accuracy: 0.9976\n",
            "Epoch 302/500\n",
            "1505/1505 [==============================] - 9s 6ms/step - loss: 0.0526 - accuracy: 0.9972 - val_loss: 0.0271 - val_accuracy: 0.9975\n",
            "Epoch 303/500\n",
            "1505/1505 [==============================] - 8s 5ms/step - loss: 0.0532 - accuracy: 0.9971 - val_loss: 0.0268 - val_accuracy: 0.9976\n",
            "Epoch 304/500\n",
            "1505/1505 [==============================] - 8s 5ms/step - loss: 0.0522 - accuracy: 0.9971 - val_loss: 0.0268 - val_accuracy: 0.9976\n",
            "Epoch 305/500\n",
            "1505/1505 [==============================] - 8s 5ms/step - loss: 0.0529 - accuracy: 0.9972 - val_loss: 0.0268 - val_accuracy: 0.9976\n",
            "Epoch 306/500\n",
            "1505/1505 [==============================] - 8s 5ms/step - loss: 0.0523 - accuracy: 0.9971 - val_loss: 0.0267 - val_accuracy: 0.9976\n",
            "Epoch 307/500\n",
            "1505/1505 [==============================] - 8s 6ms/step - loss: 0.0543 - accuracy: 0.9971 - val_loss: 0.0274 - val_accuracy: 0.9976\n",
            "Epoch 308/500\n",
            "1505/1505 [==============================] - 8s 5ms/step - loss: 0.0519 - accuracy: 0.9972 - val_loss: 0.0270 - val_accuracy: 0.9976\n",
            "Epoch 309/500\n",
            "1505/1505 [==============================] - 8s 5ms/step - loss: 0.0531 - accuracy: 0.9970 - val_loss: 0.0267 - val_accuracy: 0.9977\n",
            "Epoch 310/500\n",
            "1505/1505 [==============================] - 8s 5ms/step - loss: 0.0537 - accuracy: 0.9970 - val_loss: 0.0270 - val_accuracy: 0.9976\n",
            "Epoch 311/500\n",
            "1505/1505 [==============================] - 8s 5ms/step - loss: 0.0520 - accuracy: 0.9972 - val_loss: 0.0272 - val_accuracy: 0.9976\n",
            "Epoch 312/500\n",
            "1505/1505 [==============================] - 8s 5ms/step - loss: 0.0533 - accuracy: 0.9970 - val_loss: 0.0267 - val_accuracy: 0.9976\n",
            "Epoch 313/500\n",
            "1505/1505 [==============================] - 8s 5ms/step - loss: 0.0532 - accuracy: 0.9971 - val_loss: 0.0268 - val_accuracy: 0.9977\n",
            "Epoch 314/500\n",
            "1505/1505 [==============================] - 7s 5ms/step - loss: 0.0534 - accuracy: 0.9971 - val_loss: 0.0267 - val_accuracy: 0.9977\n",
            "Epoch 315/500\n",
            "1505/1505 [==============================] - 8s 6ms/step - loss: 0.0538 - accuracy: 0.9970 - val_loss: 0.0270 - val_accuracy: 0.9975\n",
            "Epoch 316/500\n",
            "1505/1505 [==============================] - 8s 5ms/step - loss: 0.0536 - accuracy: 0.9971 - val_loss: 0.0269 - val_accuracy: 0.9977\n",
            "Epoch 317/500\n",
            "1505/1505 [==============================] - 8s 6ms/step - loss: 0.0530 - accuracy: 0.9971 - val_loss: 0.0267 - val_accuracy: 0.9976\n",
            "Epoch 318/500\n",
            "1505/1505 [==============================] - 7s 5ms/step - loss: 0.0534 - accuracy: 0.9970 - val_loss: 0.0270 - val_accuracy: 0.9975\n",
            "Epoch 319/500\n",
            "1505/1505 [==============================] - 7s 5ms/step - loss: 0.0536 - accuracy: 0.9972 - val_loss: 0.0267 - val_accuracy: 0.9976\n",
            "Epoch 320/500\n",
            "1505/1505 [==============================] - 7s 5ms/step - loss: 0.0547 - accuracy: 0.9970 - val_loss: 0.0269 - val_accuracy: 0.9975\n",
            "Epoch 321/500\n",
            "1505/1505 [==============================] - 8s 6ms/step - loss: 0.0523 - accuracy: 0.9971 - val_loss: 0.0269 - val_accuracy: 0.9977\n",
            "Epoch 322/500\n",
            "1505/1505 [==============================] - 8s 5ms/step - loss: 0.0525 - accuracy: 0.9971 - val_loss: 0.0270 - val_accuracy: 0.9976\n",
            "Epoch 323/500\n",
            "1505/1505 [==============================] - 8s 5ms/step - loss: 0.0535 - accuracy: 0.9969 - val_loss: 0.0268 - val_accuracy: 0.9976\n",
            "Epoch 324/500\n",
            "1505/1505 [==============================] - 9s 6ms/step - loss: 0.0542 - accuracy: 0.9971 - val_loss: 0.0268 - val_accuracy: 0.9975\n",
            "Epoch 325/500\n",
            "1505/1505 [==============================] - 8s 5ms/step - loss: 0.0529 - accuracy: 0.9971 - val_loss: 0.0269 - val_accuracy: 0.9976\n",
            "Epoch 326/500\n",
            "1505/1505 [==============================] - 9s 6ms/step - loss: 0.0514 - accuracy: 0.9971 - val_loss: 0.0270 - val_accuracy: 0.9975\n",
            "Epoch 327/500\n",
            "1505/1505 [==============================] - 8s 5ms/step - loss: 0.0535 - accuracy: 0.9971 - val_loss: 0.0266 - val_accuracy: 0.9976\n",
            "Epoch 328/500\n",
            "1505/1505 [==============================] - 8s 5ms/step - loss: 0.0531 - accuracy: 0.9971 - val_loss: 0.0267 - val_accuracy: 0.9977\n",
            "Epoch 329/500\n",
            "1505/1505 [==============================] - 8s 5ms/step - loss: 0.0532 - accuracy: 0.9970 - val_loss: 0.0266 - val_accuracy: 0.9976\n",
            "Epoch 330/500\n",
            "1505/1505 [==============================] - 8s 5ms/step - loss: 0.0526 - accuracy: 0.9971 - val_loss: 0.0268 - val_accuracy: 0.9976\n",
            "Epoch 331/500\n",
            "1505/1505 [==============================] - 8s 5ms/step - loss: 0.0538 - accuracy: 0.9970 - val_loss: 0.0268 - val_accuracy: 0.9975\n",
            "Epoch 332/500\n",
            "1505/1505 [==============================] - 8s 6ms/step - loss: 0.0538 - accuracy: 0.9970 - val_loss: 0.0273 - val_accuracy: 0.9975\n",
            "Epoch 333/500\n",
            "1505/1505 [==============================] - 8s 6ms/step - loss: 0.0540 - accuracy: 0.9969 - val_loss: 0.0268 - val_accuracy: 0.9976\n",
            "Epoch 334/500\n",
            "1505/1505 [==============================] - 8s 5ms/step - loss: 0.0533 - accuracy: 0.9970 - val_loss: 0.0271 - val_accuracy: 0.9976\n",
            "Epoch 335/500\n",
            "1505/1505 [==============================] - 8s 5ms/step - loss: 0.0535 - accuracy: 0.9971 - val_loss: 0.0266 - val_accuracy: 0.9976\n",
            "Epoch 336/500\n",
            "1505/1505 [==============================] - 7s 5ms/step - loss: 0.0540 - accuracy: 0.9971 - val_loss: 0.0268 - val_accuracy: 0.9975\n",
            "Epoch 337/500\n",
            "1505/1505 [==============================] - 9s 6ms/step - loss: 0.0541 - accuracy: 0.9970 - val_loss: 0.0273 - val_accuracy: 0.9975\n",
            "Epoch 338/500\n",
            "1505/1505 [==============================] - 9s 6ms/step - loss: 0.0531 - accuracy: 0.9970 - val_loss: 0.0270 - val_accuracy: 0.9976\n",
            "Epoch 339/500\n",
            "1505/1505 [==============================] - 9s 6ms/step - loss: 0.0531 - accuracy: 0.9971 - val_loss: 0.0266 - val_accuracy: 0.9976\n",
            "Epoch 340/500\n",
            "1505/1505 [==============================] - 9s 6ms/step - loss: 0.0532 - accuracy: 0.9970 - val_loss: 0.0268 - val_accuracy: 0.9976\n",
            "Epoch 341/500\n",
            "1505/1505 [==============================] - 8s 5ms/step - loss: 0.0521 - accuracy: 0.9971 - val_loss: 0.0271 - val_accuracy: 0.9976\n",
            "Epoch 342/500\n",
            "1505/1505 [==============================] - 8s 5ms/step - loss: 0.0530 - accuracy: 0.9970 - val_loss: 0.0268 - val_accuracy: 0.9976\n",
            "Epoch 343/500\n",
            "1505/1505 [==============================] - 7s 5ms/step - loss: 0.0533 - accuracy: 0.9970 - val_loss: 0.0271 - val_accuracy: 0.9976\n",
            "Epoch 344/500\n",
            "1505/1505 [==============================] - 8s 5ms/step - loss: 0.0523 - accuracy: 0.9970 - val_loss: 0.0268 - val_accuracy: 0.9976\n",
            "Epoch 345/500\n",
            "1505/1505 [==============================] - 7s 5ms/step - loss: 0.0526 - accuracy: 0.9972 - val_loss: 0.0275 - val_accuracy: 0.9977\n",
            "Epoch 346/500\n",
            "1505/1505 [==============================] - 8s 5ms/step - loss: 0.0531 - accuracy: 0.9971 - val_loss: 0.0269 - val_accuracy: 0.9977\n",
            "Epoch 347/500\n",
            "1505/1505 [==============================] - 9s 6ms/step - loss: 0.0530 - accuracy: 0.9970 - val_loss: 0.0269 - val_accuracy: 0.9976\n",
            "Epoch 348/500\n",
            "1505/1505 [==============================] - 8s 5ms/step - loss: 0.0538 - accuracy: 0.9970 - val_loss: 0.0272 - val_accuracy: 0.9976\n",
            "Epoch 349/500\n",
            "1505/1505 [==============================] - 8s 5ms/step - loss: 0.0530 - accuracy: 0.9971 - val_loss: 0.0270 - val_accuracy: 0.9977\n",
            "Epoch 350/500\n",
            "1505/1505 [==============================] - 8s 5ms/step - loss: 0.0543 - accuracy: 0.9970 - val_loss: 0.0269 - val_accuracy: 0.9975\n",
            "Epoch 351/500\n",
            "1505/1505 [==============================] - 8s 5ms/step - loss: 0.0529 - accuracy: 0.9971 - val_loss: 0.0268 - val_accuracy: 0.9977\n",
            "Epoch 352/500\n",
            "1505/1505 [==============================] - 8s 6ms/step - loss: 0.0526 - accuracy: 0.9971 - val_loss: 0.0268 - val_accuracy: 0.9976\n",
            "Epoch 353/500\n",
            "1505/1505 [==============================] - 7s 5ms/step - loss: 0.0525 - accuracy: 0.9972 - val_loss: 0.0268 - val_accuracy: 0.9976\n",
            "Epoch 354/500\n",
            "1505/1505 [==============================] - 8s 5ms/step - loss: 0.0520 - accuracy: 0.9971 - val_loss: 0.0272 - val_accuracy: 0.9976\n",
            "Epoch 355/500\n",
            "1505/1505 [==============================] - 8s 5ms/step - loss: 0.0541 - accuracy: 0.9969 - val_loss: 0.0269 - val_accuracy: 0.9976\n",
            "Epoch 356/500\n",
            "1505/1505 [==============================] - 8s 5ms/step - loss: 0.0531 - accuracy: 0.9969 - val_loss: 0.0269 - val_accuracy: 0.9976\n",
            "Epoch 357/500\n",
            "1505/1505 [==============================] - 9s 6ms/step - loss: 0.0534 - accuracy: 0.9971 - val_loss: 0.0269 - val_accuracy: 0.9976\n",
            "Epoch 358/500\n",
            "1505/1505 [==============================] - 8s 6ms/step - loss: 0.0541 - accuracy: 0.9969 - val_loss: 0.0265 - val_accuracy: 0.9977\n",
            "Epoch 359/500\n",
            "1505/1505 [==============================] - 8s 5ms/step - loss: 0.0543 - accuracy: 0.9969 - val_loss: 0.0266 - val_accuracy: 0.9977\n",
            "Epoch 360/500\n",
            "1505/1505 [==============================] - 8s 5ms/step - loss: 0.0522 - accuracy: 0.9972 - val_loss: 0.0270 - val_accuracy: 0.9977\n",
            "Epoch 361/500\n",
            "1505/1505 [==============================] - 8s 5ms/step - loss: 0.0530 - accuracy: 0.9971 - val_loss: 0.0267 - val_accuracy: 0.9976\n",
            "Epoch 362/500\n",
            "1505/1505 [==============================] - 8s 5ms/step - loss: 0.0547 - accuracy: 0.9970 - val_loss: 0.0274 - val_accuracy: 0.9976\n",
            "Epoch 363/500\n",
            "1505/1505 [==============================] - 8s 5ms/step - loss: 0.0528 - accuracy: 0.9971 - val_loss: 0.0271 - val_accuracy: 0.9976\n",
            "Epoch 364/500\n",
            "1505/1505 [==============================] - 8s 5ms/step - loss: 0.0546 - accuracy: 0.9970 - val_loss: 0.0271 - val_accuracy: 0.9977\n",
            "Epoch 365/500\n",
            "1505/1505 [==============================] - 7s 5ms/step - loss: 0.0514 - accuracy: 0.9971 - val_loss: 0.0270 - val_accuracy: 0.9976\n",
            "Epoch 366/500\n",
            "1505/1505 [==============================] - 8s 5ms/step - loss: 0.0532 - accuracy: 0.9970 - val_loss: 0.0268 - val_accuracy: 0.9976\n",
            "Epoch 367/500\n",
            "1505/1505 [==============================] - 8s 5ms/step - loss: 0.0534 - accuracy: 0.9970 - val_loss: 0.0267 - val_accuracy: 0.9976\n",
            "Epoch 368/500\n",
            "1505/1505 [==============================] - 7s 5ms/step - loss: 0.0530 - accuracy: 0.9971 - val_loss: 0.0270 - val_accuracy: 0.9976\n",
            "Epoch 369/500\n",
            "1505/1505 [==============================] - 8s 5ms/step - loss: 0.0525 - accuracy: 0.9972 - val_loss: 0.0267 - val_accuracy: 0.9976\n",
            "Epoch 370/500\n",
            "1505/1505 [==============================] - 8s 5ms/step - loss: 0.0520 - accuracy: 0.9970 - val_loss: 0.0274 - val_accuracy: 0.9976\n",
            "Epoch 371/500\n",
            "1505/1505 [==============================] - 7s 5ms/step - loss: 0.0506 - accuracy: 0.9973 - val_loss: 0.0272 - val_accuracy: 0.9975\n",
            "Epoch 372/500\n",
            "1505/1505 [==============================] - 8s 5ms/step - loss: 0.0539 - accuracy: 0.9970 - val_loss: 0.0269 - val_accuracy: 0.9976\n",
            "Epoch 373/500\n",
            "1505/1505 [==============================] - 8s 5ms/step - loss: 0.0531 - accuracy: 0.9970 - val_loss: 0.0269 - val_accuracy: 0.9976\n",
            "Epoch 374/500\n",
            "1505/1505 [==============================] - 8s 5ms/step - loss: 0.0534 - accuracy: 0.9970 - val_loss: 0.0275 - val_accuracy: 0.9976\n",
            "Epoch 375/500\n",
            "1505/1505 [==============================] - 8s 6ms/step - loss: 0.0527 - accuracy: 0.9970 - val_loss: 0.0271 - val_accuracy: 0.9976\n",
            "Epoch 376/500\n",
            "1505/1505 [==============================] - 8s 5ms/step - loss: 0.0530 - accuracy: 0.9971 - val_loss: 0.0271 - val_accuracy: 0.9976\n",
            "Epoch 377/500\n",
            "1505/1505 [==============================] - 9s 6ms/step - loss: 0.0512 - accuracy: 0.9972 - val_loss: 0.0272 - val_accuracy: 0.9976\n",
            "Epoch 378/500\n",
            "1505/1505 [==============================] - 8s 5ms/step - loss: 0.0533 - accuracy: 0.9970 - val_loss: 0.0269 - val_accuracy: 0.9976\n",
            "Epoch 379/500\n",
            "1505/1505 [==============================] - 8s 5ms/step - loss: 0.0529 - accuracy: 0.9972 - val_loss: 0.0272 - val_accuracy: 0.9976\n",
            "Epoch 380/500\n",
            "1505/1505 [==============================] - 8s 5ms/step - loss: 0.0527 - accuracy: 0.9970 - val_loss: 0.0272 - val_accuracy: 0.9976\n",
            "Epoch 381/500\n",
            "1505/1505 [==============================] - 9s 6ms/step - loss: 0.0530 - accuracy: 0.9970 - val_loss: 0.0270 - val_accuracy: 0.9976\n",
            "Epoch 382/500\n",
            "1505/1505 [==============================] - 7s 5ms/step - loss: 0.0537 - accuracy: 0.9970 - val_loss: 0.0273 - val_accuracy: 0.9977\n",
            "Epoch 383/500\n",
            "1505/1505 [==============================] - 8s 5ms/step - loss: 0.0527 - accuracy: 0.9971 - val_loss: 0.0272 - val_accuracy: 0.9976\n",
            "Epoch 384/500\n",
            "1505/1505 [==============================] - 8s 5ms/step - loss: 0.0530 - accuracy: 0.9971 - val_loss: 0.0269 - val_accuracy: 0.9977\n",
            "Epoch 385/500\n",
            "1505/1505 [==============================] - 9s 6ms/step - loss: 0.0542 - accuracy: 0.9969 - val_loss: 0.0272 - val_accuracy: 0.9977\n",
            "Epoch 386/500\n",
            "1505/1505 [==============================] - 8s 5ms/step - loss: 0.0531 - accuracy: 0.9970 - val_loss: 0.0268 - val_accuracy: 0.9977\n",
            "Epoch 387/500\n",
            "1505/1505 [==============================] - 8s 6ms/step - loss: 0.0520 - accuracy: 0.9971 - val_loss: 0.0274 - val_accuracy: 0.9976\n",
            "Epoch 388/500\n",
            "1505/1505 [==============================] - 8s 5ms/step - loss: 0.0539 - accuracy: 0.9969 - val_loss: 0.0272 - val_accuracy: 0.9977\n",
            "Epoch 389/500\n",
            "1505/1505 [==============================] - 8s 5ms/step - loss: 0.0534 - accuracy: 0.9970 - val_loss: 0.0269 - val_accuracy: 0.9976\n",
            "Epoch 390/500\n",
            "1505/1505 [==============================] - 8s 5ms/step - loss: 0.0529 - accuracy: 0.9970 - val_loss: 0.0273 - val_accuracy: 0.9976\n",
            "Epoch 391/500\n",
            "1505/1505 [==============================] - 8s 5ms/step - loss: 0.0536 - accuracy: 0.9971 - val_loss: 0.0270 - val_accuracy: 0.9976\n",
            "Epoch 392/500\n",
            "1505/1505 [==============================] - 8s 6ms/step - loss: 0.0531 - accuracy: 0.9970 - val_loss: 0.0270 - val_accuracy: 0.9976\n",
            "Epoch 393/500\n",
            "1505/1505 [==============================] - 8s 6ms/step - loss: 0.0539 - accuracy: 0.9970 - val_loss: 0.0273 - val_accuracy: 0.9976\n",
            "Epoch 394/500\n",
            "1505/1505 [==============================] - 8s 5ms/step - loss: 0.0539 - accuracy: 0.9969 - val_loss: 0.0269 - val_accuracy: 0.9977\n",
            "Epoch 395/500\n",
            "1505/1505 [==============================] - 8s 5ms/step - loss: 0.0533 - accuracy: 0.9970 - val_loss: 0.0269 - val_accuracy: 0.9977\n",
            "Epoch 396/500\n",
            "1505/1505 [==============================] - 8s 5ms/step - loss: 0.0531 - accuracy: 0.9970 - val_loss: 0.0272 - val_accuracy: 0.9977\n",
            "Epoch 397/500\n",
            "1505/1505 [==============================] - 8s 5ms/step - loss: 0.0526 - accuracy: 0.9970 - val_loss: 0.0271 - val_accuracy: 0.9976\n",
            "Epoch 398/500\n",
            "1505/1505 [==============================] - 8s 5ms/step - loss: 0.0542 - accuracy: 0.9970 - val_loss: 0.0271 - val_accuracy: 0.9976\n",
            "Epoch 399/500\n",
            "1505/1505 [==============================] - 8s 6ms/step - loss: 0.0528 - accuracy: 0.9971 - val_loss: 0.0271 - val_accuracy: 0.9976\n",
            "Epoch 400/500\n",
            "1505/1505 [==============================] - 8s 6ms/step - loss: 0.0523 - accuracy: 0.9972 - val_loss: 0.0272 - val_accuracy: 0.9976\n",
            "Epoch 401/500\n",
            "1505/1505 [==============================] - 9s 6ms/step - loss: 0.0516 - accuracy: 0.9970 - val_loss: 0.0270 - val_accuracy: 0.9976\n",
            "Epoch 402/500\n",
            "1505/1505 [==============================] - 8s 5ms/step - loss: 0.0534 - accuracy: 0.9969 - val_loss: 0.0272 - val_accuracy: 0.9976\n",
            "Epoch 403/500\n",
            "1505/1505 [==============================] - 8s 6ms/step - loss: 0.0528 - accuracy: 0.9971 - val_loss: 0.0271 - val_accuracy: 0.9977\n",
            "Epoch 404/500\n",
            "1505/1505 [==============================] - 8s 5ms/step - loss: 0.0535 - accuracy: 0.9970 - val_loss: 0.0271 - val_accuracy: 0.9976\n",
            "Epoch 405/500\n",
            "1505/1505 [==============================] - 7s 5ms/step - loss: 0.0524 - accuracy: 0.9971 - val_loss: 0.0273 - val_accuracy: 0.9976\n",
            "Epoch 406/500\n",
            "1505/1505 [==============================] - 8s 5ms/step - loss: 0.0535 - accuracy: 0.9971 - val_loss: 0.0274 - val_accuracy: 0.9976\n",
            "Epoch 407/500\n",
            "1505/1505 [==============================] - 8s 5ms/step - loss: 0.0531 - accuracy: 0.9970 - val_loss: 0.0276 - val_accuracy: 0.9976\n",
            "Epoch 408/500\n",
            "1505/1505 [==============================] - 8s 6ms/step - loss: 0.0530 - accuracy: 0.9970 - val_loss: 0.0272 - val_accuracy: 0.9976\n",
            "Epoch 409/500\n",
            "1505/1505 [==============================] - 8s 5ms/step - loss: 0.0532 - accuracy: 0.9970 - val_loss: 0.0273 - val_accuracy: 0.9977\n",
            "Epoch 410/500\n",
            "1505/1505 [==============================] - 8s 5ms/step - loss: 0.0531 - accuracy: 0.9971 - val_loss: 0.0271 - val_accuracy: 0.9976\n",
            "Epoch 411/500\n",
            "1505/1505 [==============================] - 8s 6ms/step - loss: 0.0541 - accuracy: 0.9970 - val_loss: 0.0270 - val_accuracy: 0.9976\n",
            "Epoch 412/500\n",
            "1505/1505 [==============================] - 8s 6ms/step - loss: 0.0530 - accuracy: 0.9970 - val_loss: 0.0273 - val_accuracy: 0.9976\n",
            "Epoch 413/500\n",
            "1505/1505 [==============================] - 9s 6ms/step - loss: 0.0513 - accuracy: 0.9971 - val_loss: 0.0275 - val_accuracy: 0.9977\n",
            "Epoch 414/500\n",
            "1505/1505 [==============================] - 8s 6ms/step - loss: 0.0533 - accuracy: 0.9972 - val_loss: 0.0271 - val_accuracy: 0.9976\n",
            "Epoch 415/500\n",
            "1505/1505 [==============================] - 8s 5ms/step - loss: 0.0523 - accuracy: 0.9970 - val_loss: 0.0274 - val_accuracy: 0.9977\n",
            "Epoch 416/500\n",
            "1505/1505 [==============================] - 8s 5ms/step - loss: 0.0539 - accuracy: 0.9970 - val_loss: 0.0274 - val_accuracy: 0.9976\n",
            "Epoch 417/500\n",
            "1505/1505 [==============================] - 8s 6ms/step - loss: 0.0535 - accuracy: 0.9970 - val_loss: 0.0274 - val_accuracy: 0.9976\n",
            "Epoch 418/500\n",
            "1505/1505 [==============================] - 7s 5ms/step - loss: 0.0532 - accuracy: 0.9971 - val_loss: 0.0271 - val_accuracy: 0.9977\n",
            "Epoch 419/500\n",
            "1505/1505 [==============================] - 9s 6ms/step - loss: 0.0530 - accuracy: 0.9970 - val_loss: 0.0271 - val_accuracy: 0.9976\n",
            "Epoch 420/500\n",
            "1505/1505 [==============================] - 8s 5ms/step - loss: 0.0544 - accuracy: 0.9969 - val_loss: 0.0272 - val_accuracy: 0.9977\n",
            "Epoch 421/500\n",
            "1505/1505 [==============================] - 9s 6ms/step - loss: 0.0536 - accuracy: 0.9969 - val_loss: 0.0272 - val_accuracy: 0.9977\n",
            "Epoch 422/500\n",
            "1505/1505 [==============================] - 8s 5ms/step - loss: 0.0531 - accuracy: 0.9970 - val_loss: 0.0271 - val_accuracy: 0.9975\n",
            "Epoch 423/500\n",
            "1505/1505 [==============================] - 8s 5ms/step - loss: 0.0532 - accuracy: 0.9970 - val_loss: 0.0273 - val_accuracy: 0.9977\n",
            "Epoch 424/500\n",
            "1505/1505 [==============================] - 8s 5ms/step - loss: 0.0523 - accuracy: 0.9971 - val_loss: 0.0279 - val_accuracy: 0.9976\n",
            "Epoch 425/500\n",
            "1505/1505 [==============================] - 8s 5ms/step - loss: 0.0537 - accuracy: 0.9969 - val_loss: 0.0275 - val_accuracy: 0.9977\n",
            "Epoch 426/500\n",
            "1505/1505 [==============================] - 8s 5ms/step - loss: 0.0533 - accuracy: 0.9971 - val_loss: 0.0275 - val_accuracy: 0.9977\n",
            "Epoch 427/500\n",
            "1505/1505 [==============================] - 8s 5ms/step - loss: 0.0525 - accuracy: 0.9970 - val_loss: 0.0277 - val_accuracy: 0.9976\n",
            "Epoch 428/500\n",
            "1505/1505 [==============================] - 8s 5ms/step - loss: 0.0528 - accuracy: 0.9970 - val_loss: 0.0277 - val_accuracy: 0.9975\n",
            "Epoch 429/500\n",
            "1505/1505 [==============================] - 8s 5ms/step - loss: 0.0517 - accuracy: 0.9972 - val_loss: 0.0272 - val_accuracy: 0.9977\n",
            "Epoch 430/500\n",
            "1505/1505 [==============================] - 8s 5ms/step - loss: 0.0550 - accuracy: 0.9969 - val_loss: 0.0274 - val_accuracy: 0.9976\n",
            "Epoch 431/500\n",
            "1505/1505 [==============================] - 8s 5ms/step - loss: 0.0517 - accuracy: 0.9971 - val_loss: 0.0271 - val_accuracy: 0.9977\n",
            "Epoch 432/500\n",
            "1505/1505 [==============================] - 8s 5ms/step - loss: 0.0537 - accuracy: 0.9971 - val_loss: 0.0274 - val_accuracy: 0.9976\n",
            "Epoch 433/500\n",
            "1505/1505 [==============================] - 8s 5ms/step - loss: 0.0533 - accuracy: 0.9971 - val_loss: 0.0274 - val_accuracy: 0.9976\n",
            "Epoch 434/500\n",
            "1505/1505 [==============================] - 7s 5ms/step - loss: 0.0542 - accuracy: 0.9970 - val_loss: 0.0273 - val_accuracy: 0.9976\n",
            "Epoch 435/500\n",
            "1505/1505 [==============================] - 7s 5ms/step - loss: 0.0535 - accuracy: 0.9969 - val_loss: 0.0273 - val_accuracy: 0.9976\n",
            "Epoch 436/500\n",
            "1505/1505 [==============================] - 7s 5ms/step - loss: 0.0532 - accuracy: 0.9971 - val_loss: 0.0273 - val_accuracy: 0.9976\n",
            "Epoch 437/500\n",
            "1505/1505 [==============================] - 8s 5ms/step - loss: 0.0532 - accuracy: 0.9971 - val_loss: 0.0277 - val_accuracy: 0.9975\n",
            "Epoch 438/500\n",
            "1505/1505 [==============================] - 8s 5ms/step - loss: 0.0529 - accuracy: 0.9971 - val_loss: 0.0274 - val_accuracy: 0.9976\n",
            "Epoch 439/500\n",
            "1505/1505 [==============================] - 8s 5ms/step - loss: 0.0532 - accuracy: 0.9970 - val_loss: 0.0277 - val_accuracy: 0.9976\n",
            "Epoch 440/500\n",
            "1505/1505 [==============================] - 8s 5ms/step - loss: 0.0537 - accuracy: 0.9972 - val_loss: 0.0274 - val_accuracy: 0.9977\n",
            "Epoch 441/500\n",
            "1505/1505 [==============================] - 8s 5ms/step - loss: 0.0544 - accuracy: 0.9969 - val_loss: 0.0275 - val_accuracy: 0.9977\n",
            "Epoch 442/500\n",
            "1505/1505 [==============================] - 8s 5ms/step - loss: 0.0531 - accuracy: 0.9970 - val_loss: 0.0273 - val_accuracy: 0.9977\n",
            "Epoch 443/500\n",
            "1505/1505 [==============================] - 8s 6ms/step - loss: 0.0522 - accuracy: 0.9970 - val_loss: 0.0274 - val_accuracy: 0.9977\n",
            "Epoch 444/500\n",
            "1505/1505 [==============================] - 9s 6ms/step - loss: 0.0535 - accuracy: 0.9970 - val_loss: 0.0272 - val_accuracy: 0.9977\n",
            "Epoch 445/500\n",
            "1505/1505 [==============================] - 8s 6ms/step - loss: 0.0530 - accuracy: 0.9971 - val_loss: 0.0277 - val_accuracy: 0.9976\n",
            "Epoch 446/500\n",
            "1505/1505 [==============================] - 8s 5ms/step - loss: 0.0531 - accuracy: 0.9972 - val_loss: 0.0275 - val_accuracy: 0.9977\n",
            "Epoch 447/500\n",
            "1505/1505 [==============================] - 8s 5ms/step - loss: 0.0534 - accuracy: 0.9970 - val_loss: 0.0273 - val_accuracy: 0.9977\n",
            "Epoch 448/500\n",
            "1505/1505 [==============================] - 8s 5ms/step - loss: 0.0551 - accuracy: 0.9969 - val_loss: 0.0275 - val_accuracy: 0.9976\n",
            "Epoch 449/500\n",
            "1505/1505 [==============================] - 9s 6ms/step - loss: 0.0526 - accuracy: 0.9971 - val_loss: 0.0276 - val_accuracy: 0.9976\n",
            "Epoch 450/500\n",
            "1505/1505 [==============================] - 9s 6ms/step - loss: 0.0529 - accuracy: 0.9970 - val_loss: 0.0276 - val_accuracy: 0.9977\n",
            "Epoch 451/500\n",
            "1505/1505 [==============================] - 8s 6ms/step - loss: 0.0550 - accuracy: 0.9969 - val_loss: 0.0281 - val_accuracy: 0.9976\n",
            "Epoch 452/500\n",
            "1505/1505 [==============================] - 8s 5ms/step - loss: 0.0519 - accuracy: 0.9972 - val_loss: 0.0277 - val_accuracy: 0.9977\n",
            "Epoch 453/500\n",
            "1505/1505 [==============================] - 8s 5ms/step - loss: 0.0538 - accuracy: 0.9971 - val_loss: 0.0273 - val_accuracy: 0.9976\n",
            "Epoch 454/500\n",
            "1505/1505 [==============================] - 9s 6ms/step - loss: 0.0531 - accuracy: 0.9970 - val_loss: 0.0280 - val_accuracy: 0.9977\n",
            "Epoch 455/500\n",
            "1505/1505 [==============================] - 8s 5ms/step - loss: 0.0541 - accuracy: 0.9970 - val_loss: 0.0283 - val_accuracy: 0.9975\n",
            "Epoch 456/500\n",
            "1505/1505 [==============================] - 7s 5ms/step - loss: 0.0541 - accuracy: 0.9970 - val_loss: 0.0279 - val_accuracy: 0.9975\n",
            "Epoch 457/500\n",
            "1505/1505 [==============================] - 8s 6ms/step - loss: 0.0538 - accuracy: 0.9971 - val_loss: 0.0278 - val_accuracy: 0.9977\n",
            "Epoch 458/500\n",
            "1505/1505 [==============================] - 8s 5ms/step - loss: 0.0541 - accuracy: 0.9970 - val_loss: 0.0278 - val_accuracy: 0.9976\n",
            "Epoch 459/500\n",
            "1505/1505 [==============================] - 9s 6ms/step - loss: 0.0551 - accuracy: 0.9969 - val_loss: 0.0277 - val_accuracy: 0.9977\n",
            "Epoch 460/500\n",
            "1505/1505 [==============================] - 8s 5ms/step - loss: 0.0532 - accuracy: 0.9970 - val_loss: 0.0276 - val_accuracy: 0.9976\n",
            "Epoch 461/500\n",
            "1505/1505 [==============================] - 8s 5ms/step - loss: 0.0533 - accuracy: 0.9969 - val_loss: 0.0277 - val_accuracy: 0.9977\n",
            "Epoch 462/500\n",
            "1505/1505 [==============================] - 8s 5ms/step - loss: 0.0527 - accuracy: 0.9970 - val_loss: 0.0275 - val_accuracy: 0.9976\n",
            "Epoch 463/500\n",
            "1505/1505 [==============================] - 8s 5ms/step - loss: 0.0536 - accuracy: 0.9970 - val_loss: 0.0276 - val_accuracy: 0.9976\n",
            "Epoch 464/500\n",
            "1505/1505 [==============================] - 8s 5ms/step - loss: 0.0528 - accuracy: 0.9971 - val_loss: 0.0278 - val_accuracy: 0.9977\n",
            "Epoch 465/500\n",
            "1505/1505 [==============================] - 7s 5ms/step - loss: 0.0551 - accuracy: 0.9969 - val_loss: 0.0280 - val_accuracy: 0.9976\n",
            "Epoch 466/500\n",
            "1505/1505 [==============================] - 8s 5ms/step - loss: 0.0529 - accuracy: 0.9971 - val_loss: 0.0277 - val_accuracy: 0.9976\n",
            "Epoch 467/500\n",
            "1505/1505 [==============================] - 8s 5ms/step - loss: 0.0542 - accuracy: 0.9970 - val_loss: 0.0277 - val_accuracy: 0.9976\n",
            "Epoch 468/500\n",
            "1505/1505 [==============================] - 8s 5ms/step - loss: 0.0536 - accuracy: 0.9968 - val_loss: 0.0274 - val_accuracy: 0.9977\n",
            "Epoch 469/500\n",
            "1505/1505 [==============================] - 8s 5ms/step - loss: 0.0544 - accuracy: 0.9971 - val_loss: 0.0280 - val_accuracy: 0.9976\n",
            "Epoch 470/500\n",
            "1505/1505 [==============================] - 8s 5ms/step - loss: 0.0553 - accuracy: 0.9968 - val_loss: 0.0277 - val_accuracy: 0.9977\n",
            "Epoch 471/500\n",
            "1505/1505 [==============================] - 8s 5ms/step - loss: 0.0528 - accuracy: 0.9971 - val_loss: 0.0280 - val_accuracy: 0.9977\n",
            "Epoch 472/500\n",
            "1505/1505 [==============================] - 8s 5ms/step - loss: 0.0538 - accuracy: 0.9970 - val_loss: 0.0279 - val_accuracy: 0.9975\n",
            "Epoch 473/500\n",
            "1505/1505 [==============================] - 9s 6ms/step - loss: 0.0546 - accuracy: 0.9970 - val_loss: 0.0281 - val_accuracy: 0.9975\n",
            "Epoch 474/500\n",
            "1505/1505 [==============================] - 8s 5ms/step - loss: 0.0526 - accuracy: 0.9970 - val_loss: 0.0278 - val_accuracy: 0.9977\n",
            "Epoch 475/500\n",
            "1505/1505 [==============================] - 8s 5ms/step - loss: 0.0545 - accuracy: 0.9970 - val_loss: 0.0276 - val_accuracy: 0.9977\n",
            "Epoch 476/500\n",
            "1505/1505 [==============================] - 8s 5ms/step - loss: 0.0549 - accuracy: 0.9967 - val_loss: 0.0274 - val_accuracy: 0.9976\n",
            "Epoch 477/500\n",
            "1505/1505 [==============================] - 7s 5ms/step - loss: 0.0543 - accuracy: 0.9971 - val_loss: 0.0275 - val_accuracy: 0.9976\n",
            "Epoch 478/500\n",
            "1505/1505 [==============================] - 9s 6ms/step - loss: 0.0540 - accuracy: 0.9970 - val_loss: 0.0280 - val_accuracy: 0.9976\n",
            "Epoch 479/500\n",
            "1505/1505 [==============================] - 8s 6ms/step - loss: 0.0528 - accuracy: 0.9971 - val_loss: 0.0280 - val_accuracy: 0.9976\n",
            "Epoch 480/500\n",
            "1505/1505 [==============================] - 8s 5ms/step - loss: 0.0534 - accuracy: 0.9971 - val_loss: 0.0278 - val_accuracy: 0.9976\n",
            "Epoch 481/500\n",
            "1505/1505 [==============================] - 8s 6ms/step - loss: 0.0539 - accuracy: 0.9970 - val_loss: 0.0275 - val_accuracy: 0.9977\n",
            "Epoch 482/500\n",
            "1505/1505 [==============================] - 9s 6ms/step - loss: 0.0531 - accuracy: 0.9971 - val_loss: 0.0281 - val_accuracy: 0.9977\n",
            "Epoch 483/500\n",
            "1505/1505 [==============================] - 8s 6ms/step - loss: 0.0535 - accuracy: 0.9970 - val_loss: 0.0280 - val_accuracy: 0.9977\n",
            "Epoch 484/500\n",
            "1505/1505 [==============================] - 8s 6ms/step - loss: 0.0539 - accuracy: 0.9970 - val_loss: 0.0277 - val_accuracy: 0.9976\n",
            "Epoch 485/500\n",
            "1505/1505 [==============================] - 8s 5ms/step - loss: 0.0528 - accuracy: 0.9971 - val_loss: 0.0280 - val_accuracy: 0.9976\n",
            "Epoch 486/500\n",
            "1505/1505 [==============================] - 9s 6ms/step - loss: 0.0555 - accuracy: 0.9970 - val_loss: 0.0280 - val_accuracy: 0.9977\n",
            "Epoch 487/500\n",
            "1505/1505 [==============================] - 8s 5ms/step - loss: 0.0533 - accuracy: 0.9971 - val_loss: 0.0279 - val_accuracy: 0.9976\n",
            "Epoch 488/500\n",
            "1505/1505 [==============================] - 7s 5ms/step - loss: 0.0546 - accuracy: 0.9969 - val_loss: 0.0283 - val_accuracy: 0.9976\n",
            "Epoch 489/500\n",
            "1505/1505 [==============================] - 7s 5ms/step - loss: 0.0542 - accuracy: 0.9970 - val_loss: 0.0278 - val_accuracy: 0.9976\n",
            "Epoch 490/500\n",
            "1505/1505 [==============================] - 8s 6ms/step - loss: 0.0544 - accuracy: 0.9970 - val_loss: 0.0282 - val_accuracy: 0.9977\n",
            "Epoch 491/500\n",
            "1505/1505 [==============================] - 8s 5ms/step - loss: 0.0528 - accuracy: 0.9971 - val_loss: 0.0278 - val_accuracy: 0.9977\n",
            "Epoch 492/500\n",
            "1505/1505 [==============================] - 8s 6ms/step - loss: 0.0547 - accuracy: 0.9969 - val_loss: 0.0280 - val_accuracy: 0.9976\n",
            "Epoch 493/500\n",
            "1505/1505 [==============================] - 8s 5ms/step - loss: 0.0539 - accuracy: 0.9969 - val_loss: 0.0285 - val_accuracy: 0.9976\n",
            "Epoch 494/500\n",
            "1505/1505 [==============================] - 9s 6ms/step - loss: 0.0559 - accuracy: 0.9969 - val_loss: 0.0281 - val_accuracy: 0.9977\n",
            "Epoch 495/500\n",
            "1505/1505 [==============================] - 8s 5ms/step - loss: 0.0544 - accuracy: 0.9970 - val_loss: 0.0281 - val_accuracy: 0.9976\n",
            "Epoch 496/500\n",
            "1505/1505 [==============================] - 8s 5ms/step - loss: 0.0541 - accuracy: 0.9970 - val_loss: 0.0281 - val_accuracy: 0.9976\n",
            "Epoch 497/500\n",
            "1505/1505 [==============================] - 8s 5ms/step - loss: 0.0537 - accuracy: 0.9970 - val_loss: 0.0281 - val_accuracy: 0.9977\n",
            "Epoch 498/500\n",
            "1505/1505 [==============================] - 9s 6ms/step - loss: 0.0533 - accuracy: 0.9971 - val_loss: 0.0281 - val_accuracy: 0.9977\n",
            "Epoch 499/500\n",
            "1505/1505 [==============================] - 8s 5ms/step - loss: 0.0533 - accuracy: 0.9971 - val_loss: 0.0280 - val_accuracy: 0.9976\n",
            "Epoch 500/500\n",
            "1505/1505 [==============================] - 8s 5ms/step - loss: 0.0543 - accuracy: 0.9970 - val_loss: 0.0281 - val_accuracy: 0.9977\n",
            "Test loss: 0.028091810643672943\n",
            "Test accuracy: 0.9976751804351807\n"
          ],
          "name": "stdout"
        }
      ]
    },
    {
      "cell_type": "code",
      "metadata": {
        "colab": {
          "base_uri": "https://localhost:8080/"
        },
        "id": "D7C5VYwVlIFf",
        "outputId": "53ba0054-4440-4ca0-8f90-85e051df4f1a"
      },
      "source": [
        "predictions = model.predict(X_train)\n",
        "predictions = (predictions > 0.5)\n",
        "\n",
        "print(confusion_matrix(Y_train, predictions))\n",
        "print(classification_report(Y_train, predictions))"
      ],
      "execution_count": 52,
      "outputs": [
        {
          "output_type": "stream",
          "text": [
            "[[728346    206]\n",
            " [  1363  40457]]\n",
            "              precision    recall  f1-score   support\n",
            "\n",
            "           0       1.00      1.00      1.00    728552\n",
            "           1       0.99      0.97      0.98     41820\n",
            "\n",
            "    accuracy                           1.00    770372\n",
            "   macro avg       1.00      0.98      0.99    770372\n",
            "weighted avg       1.00      1.00      1.00    770372\n",
            "\n"
          ],
          "name": "stdout"
        }
      ]
    },
    {
      "cell_type": "code",
      "metadata": {
        "colab": {
          "base_uri": "https://localhost:8080/"
        },
        "id": "Mih7TrvxlH_8",
        "outputId": "bd9bed80-f114-4129-ae8a-25ad8d1487f4"
      },
      "source": [
        "predictions = model.predict(X_test)\n",
        "predictions = (predictions > 0.50)\n",
        "\n",
        "print(confusion_matrix(Y_test, predictions))\n",
        "print(classification_report(Y_test, predictions))"
      ],
      "execution_count": 53,
      "outputs": [
        {
          "output_type": "stream",
          "text": [
            "[[80922    28]\n",
            " [  171  4476]]\n",
            "              precision    recall  f1-score   support\n",
            "\n",
            "           0       1.00      1.00      1.00     80950\n",
            "           1       0.99      0.96      0.98      4647\n",
            "\n",
            "    accuracy                           1.00     85597\n",
            "   macro avg       1.00      0.98      0.99     85597\n",
            "weighted avg       1.00      1.00      1.00     85597\n",
            "\n"
          ],
          "name": "stdout"
        }
      ]
    },
    {
      "cell_type": "code",
      "metadata": {
        "id": "MKIw_0J7UwE-",
        "colab": {
          "base_uri": "https://localhost:8080/",
          "height": 364
        },
        "outputId": "1983de9e-48f4-45a5-a092-4163e73c737f"
      },
      "source": [
        "fpr, tpr,z = metrics.roc_curve(Y_test, Y_pred)\n",
        "auc = metrics.auc(fpr,tpr)\n",
        "print(auc)\n",
        "print(fpr)\n",
        "print(tpr)\n",
        " \n",
        " \n",
        "import matplotlib.pyplot as plt\n",
        "%matplotlib inline\n",
        "plt.title('Receiver Operating Characteristic')\n",
        "plt.plot(fpr, tpr, 'b', label = auc)\n",
        "plt.legend(loc = 'lower right')\n",
        "plt.plot([0, 1], [0, 1],'r--')\n",
        "plt.xlim([0, 1])\n",
        "plt.ylim([0, 1])\n",
        "plt.xlabel('False Positive Rate')\n",
        "plt.ylabel('True Positive Rate')\n",
        "\n"
      ],
      "execution_count": 56,
      "outputs": [
        {
          "output_type": "stream",
          "text": [
            "0.9761806676765699\n",
            "[0.         0.00696726 1.        ]\n",
            "[0.        0.9593286 1.       ]\n"
          ],
          "name": "stdout"
        },
        {
          "output_type": "execute_result",
          "data": {
            "text/plain": [
              "Text(0, 0.5, 'True Positive Rate')"
            ]
          },
          "metadata": {
            "tags": []
          },
          "execution_count": 56
        },
        {
          "output_type": "display_data",
          "data": {
            "image/png": "[encoded data removed]",
            "text/plain": [
              "<Figure size 432x288 with 1 Axes>"
            ]
          },
          "metadata": {
            "tags": [],
            "needs_background": "light"
          }
        }
      ]
    },
    {
      "cell_type": "code",
      "metadata": {
        "id": "jM7h0yxXUwCa",
        "colab": {
          "base_uri": "https://localhost:8080/",
          "height": 312
        },
        "outputId": "475d49ed-ec80-4d4d-f5ec-ceefb48c2fd6"
      },
      "source": [
        "\n",
        "from sklearn.metrics import precision_recall_curve\n",
        "probs = model.predict(X_test)\n",
        "preds = probs\n",
        "precision, recall, threshold = precision_recall_curve(Y_test, preds)\n",
        "\n",
        "plt.title(\"Precision-Recall vs Threshold Chart\")\n",
        "plt.plot(threshold, precision[: -1], \"b--\", label=\"Precision\")\n",
        "plt.plot(threshold, recall[: -1], \"r--\", label=\"Recall\")\n",
        "plt.ylabel(\"Precision, Recall\")\n",
        "plt.xlabel(\"Threshold\")\n",
        "plt.legend(loc=\"best\")\n",
        "plt.ylim([0,1]) \n",
        "\n",
        "\n"
      ],
      "execution_count": 57,
      "outputs": [
        {
          "output_type": "execute_result",
          "data": {
            "text/plain": [
              "(0.0, 1.0)"
            ]
          },
          "metadata": {
            "tags": []
          },
          "execution_count": 57
        },
        {
          "output_type": "display_data",
          "data": {
            "image/png": "[encoded data removed]",
            "text/plain": [
              "<Figure size 432x288 with 1 Axes>"
            ]
          },
          "metadata": {
            "tags": [],
            "needs_background": "light"
          }
        }
      ]
    },
    {
      "cell_type": "code",
      "metadata": {
        "colab": {
          "base_uri": "https://localhost:8080/"
        },
        "id": "QepF5NCneJeq",
        "outputId": "08a2e476-7c8c-44a2-c6db-8e9b96f54ea1"
      },
      "source": [
        "threshold = 0.5\n",
        "pred = np.where(model.predict(X_test) >= threshold, 1, 0)\n",
        "labels = [1, 0]\n",
        "con_mat2 = confusion_matrix(Y_test, pred, labels = labels )\n",
        "print(con_mat2)\n",
        "\n",
        "from sklearn.metrics import accuracy_score\n",
        "actual = Y_test\n",
        "predicted = pred\n",
        "print ('Accuracy Score :',accuracy_score(actual, predicted)) \n",
        "print ('Report : ')\n",
        "print (classification_report(actual, predicted))"
      ],
      "execution_count": 61,
      "outputs": [
        {
          "output_type": "stream",
          "text": [
            "[[ 4476   171]\n",
            " [   28 80922]]\n",
            "Accuracy Score : 0.9976751521665479\n",
            "Report : \n",
            "              precision    recall  f1-score   support\n",
            "\n",
            "           0       1.00      1.00      1.00     80950\n",
            "           1       0.99      0.96      0.98      4647\n",
            "\n",
            "    accuracy                           1.00     85597\n",
            "   macro avg       1.00      0.98      0.99     85597\n",
            "weighted avg       1.00      1.00      1.00     85597\n",
            "\n"
          ],
          "name": "stdout"
        }
      ]
    },
    {
      "cell_type": "markdown",
      "metadata": {
        "id": "Sis0EbrGvk9g"
      },
      "source": [
        "XGBOOST"
      ]
    },
    {
      "cell_type": "code",
      "metadata": {
        "id": "LLwgnZLneJZL"
      },
      "source": [
        "from xgboost import XGBClassifier\r\n"
      ],
      "execution_count": 62,
      "outputs": []
    },
    {
      "cell_type": "code",
      "metadata": {
        "colab": {
          "base_uri": "https://localhost:8080/"
        },
        "id": "-GaAYa6tPX2Y",
        "outputId": "b345c5a0-ee51-4c16-f0cc-b9751b332c82"
      },
      "source": [
        "modelXGB = XGBClassifier(n_estimators=200, \r\n",
        "              max_depth=10,scale_pos_weight=int(728552/(41820*10))) \r\n",
        "modelXGB.fit(X_train, Y_train)"
      ],
      "execution_count": 63,
      "outputs": [
        {
          "output_type": "execute_result",
          "data": {
            "text/plain": [
              "XGBClassifier(base_score=0.5, booster='gbtree', colsample_bylevel=1,\n",
              "              colsample_bynode=1, colsample_bytree=1, gamma=0,\n",
              "              learning_rate=0.1, max_delta_step=0, max_depth=10,\n",
              "              min_child_weight=1, missing=None, n_estimators=200, n_jobs=1,\n",
              "              nthread=None, objective='binary:logistic', random_state=0,\n",
              "              reg_alpha=0, reg_lambda=1, scale_pos_weight=1, seed=None,\n",
              "              silent=None, subsample=1, verbosity=1)"
            ]
          },
          "metadata": {
            "tags": []
          },
          "execution_count": 63
        }
      ]
    },
    {
      "cell_type": "code",
      "metadata": {
        "colab": {
          "base_uri": "https://localhost:8080/"
        },
        "id": "WXMM_XUHPX7b",
        "outputId": "06176bfc-8bbb-4b1a-a331-eb677c676de7"
      },
      "source": [
        "predictions = modelXGB.predict(X_train)\r\n",
        "print(confusion_matrix(Y_train, predictions))\r\n",
        "print(classification_report(Y_train, predictions))"
      ],
      "execution_count": 64,
      "outputs": [
        {
          "output_type": "stream",
          "text": [
            "[[728552      0]\n",
            " [    10  41810]]\n",
            "              precision    recall  f1-score   support\n",
            "\n",
            "           0       1.00      1.00      1.00    728552\n",
            "           1       1.00      1.00      1.00     41820\n",
            "\n",
            "    accuracy                           1.00    770372\n",
            "   macro avg       1.00      1.00      1.00    770372\n",
            "weighted avg       1.00      1.00      1.00    770372\n",
            "\n"
          ],
          "name": "stdout"
        }
      ]
    },
    {
      "cell_type": "code",
      "metadata": {
        "colab": {
          "base_uri": "https://localhost:8080/"
        },
        "id": "swkCsQaSPYAA",
        "outputId": "853fd371-aa36-434b-f969-2556d3fc35d9"
      },
      "source": [
        "predictions = modelXGB.predict(X_test)\r\n",
        "print(confusion_matrix(Y_test, predictions))\r\n",
        "print(classification_report(Y_test, predictions))"
      ],
      "execution_count": 65,
      "outputs": [
        {
          "output_type": "stream",
          "text": [
            "[[80950     0]\n",
            " [   97  4550]]\n",
            "              precision    recall  f1-score   support\n",
            "\n",
            "           0       1.00      1.00      1.00     80950\n",
            "           1       1.00      0.98      0.99      4647\n",
            "\n",
            "    accuracy                           1.00     85597\n",
            "   macro avg       1.00      0.99      0.99     85597\n",
            "weighted avg       1.00      1.00      1.00     85597\n",
            "\n"
          ],
          "name": "stdout"
        }
      ]
    },
    {
      "cell_type": "code",
      "metadata": {
        "id": "qVqjd8NpPYEm"
      },
      "source": [
        "#Saved weights\r\n",
        "import pickle\r\n",
        "file_name = \"/content/gdrive/My Drive/Colab Notebooks/Loan_default/xgb_reg.pkl\"\r\n",
        "\r\n",
        "# save\r\n",
        "#pickle.dump(modelXGB, open(file_name, \"wb\"))\r\n"
      ],
      "execution_count": 66,
      "outputs": []
    },
    {
      "cell_type": "code",
      "metadata": {
        "id": "_hL3OApAPYI7"
      },
      "source": [
        "\r\n",
        "# load\r\n",
        "xgb_model_loaded = pickle.load(open(file_name, \"rb\"))"
      ],
      "execution_count": 67,
      "outputs": []
    },
    {
      "cell_type": "code",
      "metadata": {
        "colab": {
          "base_uri": "https://localhost:8080/"
        },
        "id": "VaqLSkC5uP48",
        "outputId": "72257a28-816d-4721-a025-ec5602cce152"
      },
      "source": [
        "predictions = xgb_model_loaded.predict(X_train)\r\n",
        "print(confusion_matrix(Y_train, predictions))\r\n",
        "print(classification_report(Y_train, predictions))"
      ],
      "execution_count": 68,
      "outputs": [
        {
          "output_type": "stream",
          "text": [
            "[[728552      0]\n",
            " [    88  41732]]\n",
            "              precision    recall  f1-score   support\n",
            "\n",
            "           0       1.00      1.00      1.00    728552\n",
            "           1       1.00      1.00      1.00     41820\n",
            "\n",
            "    accuracy                           1.00    770372\n",
            "   macro avg       1.00      1.00      1.00    770372\n",
            "weighted avg       1.00      1.00      1.00    770372\n",
            "\n"
          ],
          "name": "stdout"
        }
      ]
    },
    {
      "cell_type": "code",
      "metadata": {
        "id": "OcxPMfg9PYNp",
        "colab": {
          "base_uri": "https://localhost:8080/"
        },
        "outputId": "127c2217-8834-4509-cca8-f821e12c7e81"
      },
      "source": [
        "predictions = xgb_model_loaded.predict(X_test)\r\n",
        "print(confusion_matrix(Y_test, predictions))\r\n",
        "print(classification_report(Y_test, predictions))"
      ],
      "execution_count": 69,
      "outputs": [
        {
          "output_type": "stream",
          "text": [
            "[[80950     0]\n",
            " [   12  4635]]\n",
            "              precision    recall  f1-score   support\n",
            "\n",
            "           0       1.00      1.00      1.00     80950\n",
            "           1       1.00      1.00      1.00      4647\n",
            "\n",
            "    accuracy                           1.00     85597\n",
            "   macro avg       1.00      1.00      1.00     85597\n",
            "weighted avg       1.00      1.00      1.00     85597\n",
            "\n"
          ],
          "name": "stdout"
        }
      ]
    },
    {
      "cell_type": "code",
      "metadata": {
        "id": "DyNrfYzVVpGU"
      },
      "source": [
        ""
      ],
      "execution_count": null,
      "outputs": []
    },
    {
      "cell_type": "code",
      "metadata": {
        "id": "RTJzY9wMVpLb"
      },
      "source": [
        ""
      ],
      "execution_count": null,
      "outputs": []
    },
    {
      "cell_type": "code",
      "metadata": {
        "id": "tKOF2nuDVpQq"
      },
      "source": [
        ""
      ],
      "execution_count": null,
      "outputs": []
    },
    {
      "cell_type": "code",
      "metadata": {
        "id": "SXoRZVVrUv-q"
      },
      "source": [
        ""
      ],
      "execution_count": null,
      "outputs": []
    }
  ]
}